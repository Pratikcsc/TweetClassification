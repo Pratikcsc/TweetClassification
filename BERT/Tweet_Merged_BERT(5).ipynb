{
 "cells": [
  {
   "cell_type": "code",
   "execution_count": 1,
   "metadata": {},
   "outputs": [],
   "source": [
    "# import torch\n",
    "# print (torch.cuda.is_available())"
   ]
  },
  {
   "cell_type": "code",
   "execution_count": 2,
   "metadata": {},
   "outputs": [
    {
     "data": {
      "text/plain": [
       "5"
      ]
     },
     "execution_count": 2,
     "metadata": {},
     "output_type": "execute_result"
    }
   ],
   "source": [
    "2+3"
   ]
  },
  {
   "cell_type": "code",
   "execution_count": 30,
   "metadata": {
    "id": "KINh2VDZCNV9",
    "scrolled": true
   },
   "outputs": [],
   "source": [
    "import os\n",
    "os.environ['TF_CPP_MIN_LOG_LEVEL'] = '3' \n",
    "import tensorflow as tf\n",
    "import tensorflow_hub as hub\n",
    "import tensorflow_text as text\n",
    "import pandas as pd\n",
    "import numpy as np\n",
    "import time\n",
    "from keras.callbacks import EarlyStopping\n",
    "import matplotlib.pyplot as plt\n",
    "import seaborn as sns\n",
    "from sklearn.metrics import confusion_matrix, classification_report\n",
    "from sklearn.preprocessing import LabelBinarizer\n",
    "import re\n",
    "from nltk.corpus import stopwords\n",
    "from nltk import word_tokenize\n",
    "STOPWORDS = set(stopwords.words('english'))"
   ]
  },
  {
   "cell_type": "code",
   "execution_count": 4,
   "metadata": {
    "colab": {
     "base_uri": "https://localhost:8080/"
    },
    "id": "nMJuS_JfU3vC",
    "outputId": "7dae7d47-0a11-4f5a-be54-a5a1e0a2ac0c"
   },
   "outputs": [],
   "source": [
    "# from google.colab import drive\n",
    "# drive.mount('/content/drive')"
   ]
  },
  {
   "cell_type": "code",
   "execution_count": 5,
   "metadata": {
    "colab": {
     "base_uri": "https://localhost:8080/"
    },
    "id": "2F4hzaRCDJjq",
    "outputId": "e1ed9a09-2404-478d-b0ad-7c37f2258ad9"
   },
   "outputs": [
    {
     "data": {
      "text/plain": [
       "((23765, 4), (15438, 3))"
      ]
     },
     "execution_count": 5,
     "metadata": {},
     "output_type": "execute_result"
    }
   ],
   "source": [
    "df1 = pd.read_csv('Dataset/DelhiDataset_named.csv')\n",
    "df2 = pd.read_csv('Dataset/KolkataDataset_named.csv')\n",
    "df = pd.concat([df1,df2]).sample(frac=1).reset_index()\n",
    "df.dropna(inplace=True)\n",
    "df.shape , df1.shape"
   ]
  },
  {
   "cell_type": "code",
   "execution_count": 6,
   "metadata": {},
   "outputs": [
    {
     "name": "stdout",
     "output_type": "stream",
     "text": [
      "<class 'pandas.core.frame.DataFrame'>\n",
      "Int64Index: 23765 entries, 0 to 23766\n",
      "Data columns (total 4 columns):\n",
      " #   Column      Non-Null Count  Dtype \n",
      "---  ------      --------------  ----- \n",
      " 0   index       23765 non-null  int64 \n",
      " 1   Unnamed: 0  23765 non-null  int64 \n",
      " 2   tweet       23765 non-null  object\n",
      " 3   label       23765 non-null  object\n",
      "dtypes: int64(2), object(2)\n",
      "memory usage: 928.3+ KB\n"
     ]
    }
   ],
   "source": [
    "df.info()"
   ]
  },
  {
   "cell_type": "code",
   "execution_count": 7,
   "metadata": {},
   "outputs": [
    {
     "data": {
      "text/plain": [
       "Traffic obstruction/car breakdown    4831\n",
       "Others                               3459\n",
       "Traffic congestion/heavy traffic     2821\n",
       "Road closure                         1487\n",
       "Water logging                        1156\n",
       "Traffic information/advisory         1001\n",
       "City program                          416\n",
       "Accident                              267\n",
       "Name: label, dtype: int64"
      ]
     },
     "execution_count": 7,
     "metadata": {},
     "output_type": "execute_result"
    }
   ],
   "source": [
    "df1.label.value_counts()"
   ]
  },
  {
   "cell_type": "code",
   "execution_count": 8,
   "metadata": {},
   "outputs": [
    {
     "data": {
      "text/plain": [
       "City program                2150\n",
       "Roads related congestion    1811\n",
       "Vehicle breakdown           1636\n",
       "Closed Avenue               1375\n",
       "Others                      1103\n",
       "Road blockage                254\n",
       "Name: label, dtype: int64"
      ]
     },
     "execution_count": 8,
     "metadata": {},
     "output_type": "execute_result"
    }
   ],
   "source": [
    "df2.label.value_counts()"
   ]
  },
  {
   "cell_type": "code",
   "execution_count": 9,
   "metadata": {
    "colab": {
     "base_uri": "https://localhost:8080/",
     "height": 424
    },
    "id": "OrT23tTqKZGu",
    "outputId": "ef5e91ce-3e6e-4366-9895-3a370ab69b0e"
   },
   "outputs": [
    {
     "data": {
      "text/plain": [
       "Traffic obstruction/car breakdown    4831\n",
       "Others                               4560\n",
       "Traffic congestion/heavy traffic     2821\n",
       "City program                         2566\n",
       "Roads related congestion             1811\n",
       "Vehicle breakdown                    1636\n",
       "Road closure                         1487\n",
       "Closed Avenue                        1375\n",
       "Water logging                        1156\n",
       "Traffic information/advisory         1001\n",
       "Accident                              267\n",
       "Road blockage                         254\n",
       "Name: label, dtype: int64"
      ]
     },
     "execution_count": 9,
     "metadata": {},
     "output_type": "execute_result"
    }
   ],
   "source": [
    "df.label.value_counts()"
   ]
  },
  {
   "cell_type": "markdown",
   "metadata": {},
   "source": [
    "### Merging Similar Data labels as follows\n",
    "Traffic obstruction/car breakdown = Vehicle breakdown\n",
    "\n",
    "Traffic congestion/heavy traffic = Roads related congestion\n",
    "\n",
    "Road closure = Closed Avenue"
   ]
  },
  {
   "cell_type": "code",
   "execution_count": 10,
   "metadata": {},
   "outputs": [],
   "source": [
    "df.label.replace({'Traffic obstruction/car breakdown':'Vehicle breakdown','Traffic congestion/heavy traffic':'Roads related congestion','Road closure':'Closed Avenue'},inplace=True)"
   ]
  },
  {
   "cell_type": "code",
   "execution_count": 11,
   "metadata": {},
   "outputs": [
    {
     "data": {
      "text/plain": [
       "Vehicle breakdown               6467\n",
       "Roads related congestion        4632\n",
       "Others                          4560\n",
       "Closed Avenue                   2862\n",
       "City program                    2566\n",
       "Water logging                   1156\n",
       "Traffic information/advisory    1001\n",
       "Accident                         267\n",
       "Road blockage                    254\n",
       "Name: label, dtype: int64"
      ]
     },
     "execution_count": 11,
     "metadata": {},
     "output_type": "execute_result"
    }
   ],
   "source": [
    "Y = df['label']\n",
    "Y.value_counts()"
   ]
  },
  {
   "cell_type": "code",
   "execution_count": 12,
   "metadata": {},
   "outputs": [
    {
     "data": {
      "text/plain": [
       "[Text(0, 0, 'City program'),\n",
       " Text(1, 0, 'Traffic information/advisory'),\n",
       " Text(2, 0, 'Vehicle breakdown'),\n",
       " Text(3, 0, 'Closed Avenue'),\n",
       " Text(4, 0, 'Others'),\n",
       " Text(5, 0, 'Roads related congestion'),\n",
       " Text(6, 0, 'Accident'),\n",
       " Text(7, 0, 'Water logging'),\n",
       " Text(8, 0, 'Road blockage')]"
      ]
     },
     "execution_count": 12,
     "metadata": {},
     "output_type": "execute_result"
    },
    {
     "data": {
      "image/png": "[encoded data removed]",
      "text/plain": [
       "<Figure size 640x480 with 1 Axes>"
      ]
     },
     "metadata": {},
     "output_type": "display_data"
    }
   ],
   "source": [
    "s = sns.countplot(x='label',data=df)\n",
    "s.set_xticklabels(s.get_xticklabels(),rotation=90)"
   ]
  },
  {
   "cell_type": "markdown",
   "metadata": {},
   "source": [
    "## Dataset Preprocessing"
   ]
  },
  {
   "cell_type": "code",
   "execution_count": 13,
   "metadata": {},
   "outputs": [
    {
     "data": {
      "text/plain": [
       "array([[0, 1, 0, ..., 0, 0, 0],\n",
       "       [0, 0, 0, ..., 1, 0, 0],\n",
       "       [0, 0, 0, ..., 0, 1, 0],\n",
       "       ...,\n",
       "       [0, 0, 0, ..., 0, 1, 0],\n",
       "       [0, 0, 0, ..., 0, 0, 0],\n",
       "       [0, 0, 0, ..., 0, 1, 0]])"
      ]
     },
     "execution_count": 13,
     "metadata": {},
     "output_type": "execute_result"
    }
   ],
   "source": [
    "lb = LabelBinarizer()\n",
    "y = lb.fit_transform(Y)\n",
    "y"
   ]
  },
  {
   "cell_type": "code",
   "execution_count": 26,
   "metadata": {},
   "outputs": [],
   "source": [
    "def print_plot(index):\n",
    "    example = df[df.index == index][['tweet', 'label']].values[0]\n",
    "    if len(example) > 0:\n",
    "        print(example[0])\n",
    "        print('Label :', example[1])"
   ]
  },
  {
   "cell_type": "code",
   "execution_count": 27,
   "metadata": {},
   "outputs": [
    {
     "name": "stdout",
     "output_type": "stream",
     "text": [
      " Traffic will remain affected from Rajghat towards ISBT due to accident of an HTV Kindly avoid the stretch \n",
      "Label : Accident\n",
      "due fire incident tollygunge metro station metro service suspendedmaidan kavi subhash hrs\n",
      "Label : Others\n"
     ]
    }
   ],
   "source": [
    "print_plot(10)\n",
    "print_plot(100)"
   ]
  },
  {
   "cell_type": "code",
   "execution_count": 31,
   "metadata": {},
   "outputs": [],
   "source": [
    "df = df.reset_index(drop=True)\n",
    "REPLACE_BY_SPACE_RE = re.compile('[/(){}\\[\\]\\|@,;]')\n",
    "BAD_SYMBOLS_RE = re.compile('[^0-9a-z #+_]')\n",
    "STOPWORDS = set(stopwords.words('english'))\n",
    "\n",
    "def clean_text(text):\n",
    "    \"\"\"\n",
    "        text: a string\n",
    "\n",
    "        return: modified initial string\n",
    "    \"\"\"\n",
    "    text = text.lower() # lowercase text\n",
    "    text = REPLACE_BY_SPACE_RE.sub(' ', text) # replace REPLACE_BY_SPACE_RE symbols by space in text. substitute the matched string in REPLACE_BY_SPACE_RE with space.\n",
    "    text = BAD_SYMBOLS_RE.sub('', text) # remove symbols which are in BAD_SYMBOLS_RE from text. substitute the matched string in BAD_SYMBOLS_RE with nothing.\n",
    "    text = text.replace('x', '')\n",
    "#    text = re.sub(r'\\W+', '', text)\n",
    "    text = ' '.join(word for word in text.split() if word not in STOPWORDS) # remove stopwors from text\n",
    "    return text\n",
    "df['tweet'] = df['tweet'].apply(clean_text)"
   ]
  },
  {
   "cell_type": "code",
   "execution_count": 32,
   "metadata": {},
   "outputs": [
    {
     "name": "stderr",
     "output_type": "stream",
     "text": [
      "/tmp/ipykernel_323766/205990907.py:1: FutureWarning: The default value of regex will change from True to False in a future version.\n",
      "  df['tweet'] = df['tweet'].str.replace('\\d+', '')\n"
     ]
    }
   ],
   "source": [
    "df['tweet'] = df['tweet'].str.replace('\\d+', '')"
   ]
  },
  {
   "cell_type": "code",
   "execution_count": 33,
   "metadata": {},
   "outputs": [
    {
     "name": "stdout",
     "output_type": "stream",
     "text": [
      "traffic remain affected rajghat towards isbt due accident htv kindly avoid stretch\n",
      "Label : Accident\n",
      "due fire incident tollygunge metro station metro service suspendedmaidan kavi subhash hrs\n",
      "Label : Others\n"
     ]
    }
   ],
   "source": [
    "print_plot(10)\n",
    "print_plot(100)"
   ]
  },
  {
   "cell_type": "markdown",
   "metadata": {
    "id": "_sXo5DYEMc0A"
   },
   "source": [
    "## Devide Data into Train Test"
   ]
  },
  {
   "cell_type": "code",
   "execution_count": 34,
   "metadata": {
    "id": "EPh9cX4AMcWC"
   },
   "outputs": [
    {
     "data": {
      "text/plain": [
       "((17823,), (5942,))"
      ]
     },
     "execution_count": 34,
     "metadata": {},
     "output_type": "execute_result"
    }
   ],
   "source": [
    "from sklearn.model_selection import train_test_split\n",
    "X_train, X_test, Y_train, Y_test = train_test_split(df['tweet'],y, stratify=df['label'])\n",
    "X_train.shape, X_test.shape"
   ]
  },
  {
   "cell_type": "code",
   "execution_count": 35,
   "metadata": {
    "id": "DKfFpmRkM9QV"
   },
   "outputs": [],
   "source": [
    "import tensorflow as tf\n",
    "import tensorflow_hub as hub\n",
    "import tensorflow_text as text\n",
    "bert_preprocess = hub.KerasLayer('https://tfhub.dev/tensorflow/bert_en_uncased_preprocess/3')\n",
    "bert_encoder = hub.KerasLayer('https://tfhub.dev/tensorflow/bert_en_uncased_L-12_H-768_A-12/4')"
   ]
  },
  {
   "cell_type": "code",
   "execution_count": 36,
   "metadata": {
    "colab": {
     "base_uri": "https://localhost:8080/"
    },
    "id": "r_Hiejy2Oi2u",
    "outputId": "a440c5b5-fb4c-4dc6-faf1-6dd6199decfb"
   },
   "outputs": [
    {
     "name": "stdout",
     "output_type": "stream",
     "text": [
      "tf.Tensor(\n",
      "[[0 0 0 0 0 0 0 0 0 0 0 0 0 0 0 0 0 0 0 0 0 0 0 0 0 0 0 0 0 0 0 0 0 0 0 0\n",
      "  0 0 0 0 0 0 0 0 0 0 0 0 0 0 0 0 0 0 0 0 0 0 0 0 0 0 0 0 0 0 0 0 0 0 0 0\n",
      "  0 0 0 0 0 0 0 0 0 0 0 0 0 0 0 0 0 0 0 0 0 0 0 0 0 0 0 0 0 0 0 0 0 0 0 0\n",
      "  0 0 0 0 0 0 0 0 0 0 0 0 0 0 0 0 0 0 0 0]], shape=(1, 128), dtype=int32)\n",
      "tf.Tensor(\n",
      "[[1 1 1 1 1 1 1 1 1 0 0 0 0 0 0 0 0 0 0 0 0 0 0 0 0 0 0 0 0 0 0 0 0 0 0 0\n",
      "  0 0 0 0 0 0 0 0 0 0 0 0 0 0 0 0 0 0 0 0 0 0 0 0 0 0 0 0 0 0 0 0 0 0 0 0\n",
      "  0 0 0 0 0 0 0 0 0 0 0 0 0 0 0 0 0 0 0 0 0 0 0 0 0 0 0 0 0 0 0 0 0 0 0 0\n",
      "  0 0 0 0 0 0 0 0 0 0 0 0 0 0 0 0 0 0 0 0]], shape=(1, 128), dtype=int32)\n",
      "tf.Tensor(\n",
      "[[  101  7592  2026  2171  2003 10975 10450  2243   102     0     0     0\n",
      "      0     0     0     0     0     0     0     0     0     0     0     0\n",
      "      0     0     0     0     0     0     0     0     0     0     0     0\n",
      "      0     0     0     0     0     0     0     0     0     0     0     0\n",
      "      0     0     0     0     0     0     0     0     0     0     0     0\n",
      "      0     0     0     0     0     0     0     0     0     0     0     0\n",
      "      0     0     0     0     0     0     0     0     0     0     0     0\n",
      "      0     0     0     0     0     0     0     0     0     0     0     0\n",
      "      0     0     0     0     0     0     0     0     0     0     0     0\n",
      "      0     0     0     0     0     0     0     0     0     0     0     0\n",
      "      0     0     0     0     0     0     0     0]], shape=(1, 128), dtype=int32)\n"
     ]
    },
    {
     "data": {
      "text/plain": [
       "<tf.Tensor: shape=(1, 768), dtype=float32, numpy=\n",
       "array([[-0.8533977 , -0.48276782, -0.70477253,  0.7221814 ,  0.47630152,\n",
       "        -0.1289859 ,  0.8794483 ,  0.296979  , -0.51902866, -0.99994075,\n",
       "        -0.18897216,  0.842755  ,  0.9785907 ,  0.32615477,  0.9221678 ,\n",
       "        -0.66120243, -0.29097137, -0.62822235,  0.34081355, -0.2721504 ,\n",
       "         0.6839158 ,  0.9998238 ,  0.31350774,  0.33379447,  0.42124924,\n",
       "         0.94984686, -0.756765  ,  0.9282146 ,  0.9548834 ,  0.638658  ,\n",
       "        -0.61216605,  0.22108905, -0.9851122 , -0.22265477, -0.78967524,\n",
       "        -0.9853174 ,  0.34586638, -0.72851366, -0.13372721,  0.05549072,\n",
       "        -0.89969623,  0.3493508 ,  0.99982625, -0.493175  ,  0.3814017 ,\n",
       "        -0.40842298, -0.9999994 ,  0.23310144, -0.8767494 ,  0.71798944,\n",
       "         0.6924162 ,  0.5395161 ,  0.18618757,  0.4128619 ,  0.46317342,\n",
       "         0.21608955, -0.07707629,  0.16406362, -0.3002871 , -0.58866423,\n",
       "        -0.6664573 ,  0.4740787 , -0.69982034, -0.90390277,  0.61056167,\n",
       "         0.48190606, -0.16336848, -0.2897446 , -0.15438932, -0.05774199,\n",
       "         0.8800339 ,  0.3033362 ,  0.06936261, -0.8737343 ,  0.29219514,\n",
       "         0.30707505, -0.63326144,  1.        , -0.57111603, -0.97069687,\n",
       "         0.75543654,  0.5769934 ,  0.5427336 ,  0.1098596 ,  0.14361194,\n",
       "        -1.        ,  0.4189552 , -0.12523879, -0.9862123 ,  0.26585314,\n",
       "         0.594945  , -0.29161394,  0.3697648 ,  0.5387418 , -0.5412795 ,\n",
       "        -0.37322667, -0.37085813, -0.5724677 , -0.32789084, -0.13551077,\n",
       "         0.1004052 , -0.25488558, -0.35712105, -0.4693864 ,  0.30291137,\n",
       "        -0.4833289 , -0.45112753,  0.5012131 , -0.06561202,  0.65697384,\n",
       "         0.45598638, -0.3937093 ,  0.3797768 , -0.95567685,  0.63808376,\n",
       "        -0.40374866, -0.9800854 , -0.5233487 , -0.98476285,  0.6967461 ,\n",
       "        -0.23992412, -0.21571875,  0.9564213 ,  0.1744562 ,  0.43418673,\n",
       "        -0.12551805, -0.77009726, -1.        , -0.5439104 , -0.6340474 ,\n",
       "        -0.15526862, -0.2648934 , -0.96740484, -0.95858514,  0.63543534,\n",
       "         0.9331898 ,  0.2495354 ,  0.99946356, -0.28321278,  0.94569   ,\n",
       "        -0.12172268, -0.53875506,  0.3160823 , -0.512984  ,  0.7089273 ,\n",
       "         0.38405955, -0.47597247,  0.24613632, -0.27107593,  0.3096436 ,\n",
       "        -0.63713586, -0.22282523, -0.5546546 , -0.937905  , -0.4468912 ,\n",
       "         0.9450769 , -0.4435711 , -0.75557876,  0.20007129, -0.10494756,\n",
       "        -0.59926   ,  0.8474801 ,  0.6549154 ,  0.43206802, -0.24020872,\n",
       "         0.47030124,  0.13180229,  0.5753105 , -0.8329552 , -0.01409874,\n",
       "         0.43540356, -0.2803591 , -0.66337216, -0.9722122 , -0.3263749 ,\n",
       "         0.60397446,  0.9875982 ,  0.73273575,  0.26184607,  0.58610886,\n",
       "        -0.36610356,  0.5778216 , -0.9393498 ,  0.9722127 , -0.21605751,\n",
       "         0.34592825, -0.33350748,  0.33159858, -0.8290454 , -0.10201935,\n",
       "         0.8268325 , -0.46327737, -0.7932322 , -0.11479793, -0.56175995,\n",
       "        -0.422261  , -0.62801874,  0.3812199 , -0.2709373 , -0.36255258,\n",
       "        -0.15713796,  0.92997694,  0.9575311 ,  0.69281167, -0.03810976,\n",
       "         0.6351791 , -0.8957092 , -0.4846385 ,  0.10042492,  0.25935483,\n",
       "         0.10305325,  0.9914946 , -0.6725665 , -0.12414558, -0.933044  ,\n",
       "        -0.9831602 , -0.01186699, -0.8566    , -0.18971519, -0.7594613 ,\n",
       "         0.6307328 , -0.06147898,  0.32335293,  0.47755003, -0.97666276,\n",
       "        -0.7146109 ,  0.3962823 , -0.4846267 ,  0.4573042 , -0.29575107,\n",
       "         0.73635733,  0.76654136, -0.63384855,  0.65919966,  0.93262976,\n",
       "        -0.82171786, -0.7632747 ,  0.75215006, -0.35636407,  0.83466166,\n",
       "        -0.6786452 ,  0.9632467 ,  0.8418772 ,  0.6805112 , -0.8949084 ,\n",
       "        -0.5750519 , -0.7983008 , -0.44124874, -0.006189  , -0.17500113,\n",
       "         0.6992056 ,  0.5979326 ,  0.32648453,  0.51974803, -0.57354206,\n",
       "         0.9904412 , -0.79621357, -0.93240124, -0.5508973 , -0.10568972,\n",
       "        -0.9806664 ,  0.7159995 ,  0.33617195,  0.21407667, -0.43238795,\n",
       "        -0.72373796, -0.9466045 ,  0.7852692 ,  0.14299847,  0.97288245,\n",
       "        -0.17341584, -0.8926205 , -0.49213293, -0.90950227, -0.11873611,\n",
       "        -0.24693917,  0.04855545, -0.04962012, -0.9493137 ,  0.47262955,\n",
       "         0.62305284,  0.5511515 , -0.39282304,  0.99623126,  0.9999994 ,\n",
       "         0.96537924,  0.88949245,  0.890113  , -0.9990889 , -0.4751632 ,\n",
       "         0.9999829 , -0.9636609 , -1.        , -0.92105854, -0.6298505 ,\n",
       "         0.44575754, -1.        , -0.23642349,  0.04155646, -0.9176999 ,\n",
       "         0.35867247,  0.9696224 ,  0.98057985, -1.        ,  0.7933896 ,\n",
       "         0.9294709 , -0.65202075,  0.90600693, -0.43948478,  0.9681651 ,\n",
       "         0.5441489 ,  0.3635347 , -0.32201114,  0.3974387 , -0.844815  ,\n",
       "        -0.8200331 , -0.22081624, -0.5206664 ,  0.9904622 ,  0.16132553,\n",
       "        -0.76234275, -0.8781528 ,  0.34778783, -0.16426106, -0.2772027 ,\n",
       "        -0.9656351 , -0.31721506,  0.23121628,  0.79268205,  0.1401232 ,\n",
       "         0.3785265 , -0.67268205,  0.29321304, -0.27096993,  0.31978157,\n",
       "         0.69951457, -0.9257944 , -0.4066321 ,  0.11242417, -0.47971526,\n",
       "        -0.4558704 , -0.95963776,  0.95639545, -0.38147995,  0.6771274 ,\n",
       "         1.        , -0.0069867 , -0.854445  ,  0.61077917,  0.30906627,\n",
       "        -0.46878555,  1.        ,  0.7296672 , -0.96723706, -0.57487047,\n",
       "         0.45709023, -0.54520124, -0.55786425,  0.9988914 , -0.20580631,\n",
       "        -0.3974734 , -0.10426293,  0.9692419 , -0.9821279 ,  0.98456174,\n",
       "        -0.8929109 , -0.96477944,  0.96147877,  0.9154621 , -0.5814335 ,\n",
       "        -0.55235344,  0.13636844, -0.45839047,  0.31103355, -0.9198312 ,\n",
       "         0.6336555 ,  0.4689588 , -0.13484204,  0.8330293 , -0.7139558 ,\n",
       "        -0.5772308 ,  0.29815608, -0.3046761 ,  0.01070617,  0.8360877 ,\n",
       "         0.5649598 , -0.31639716,  0.05004888, -0.3471488 , -0.6196761 ,\n",
       "        -0.97601   ,  0.34999326,  1.        , -0.19527619,  0.54436296,\n",
       "        -0.36823136, -0.09286347, -0.16418228,  0.54555273,  0.5887571 ,\n",
       "        -0.37927243, -0.83122957,  0.45180994, -0.9308271 , -0.9817321 ,\n",
       "         0.68657833,  0.23505484, -0.39120665,  0.99996406,  0.31616348,\n",
       "         0.24666324,  0.13472861,  0.92812496,  0.06471394,  0.6006189 ,\n",
       "         0.6126505 ,  0.9692482 , -0.25342616,  0.56160074,  0.7164873 ,\n",
       "        -0.6059307 , -0.3927405 , -0.6743372 ,  0.03024829, -0.9227915 ,\n",
       "         0.01394485, -0.93682015,  0.95140535,  0.7580356 ,  0.3915567 ,\n",
       "         0.27717516,  0.47752652,  1.        , -0.66578346,  0.647183  ,\n",
       "        -0.07082363,  0.7183291 , -0.99837476, -0.81414175, -0.4698539 ,\n",
       "        -0.19502893, -0.4700867 , -0.42476684,  0.34448338, -0.95602995,\n",
       "         0.55262506,  0.3709745 , -0.9795248 , -0.98543686,  0.0057724 ,\n",
       "         0.8205023 ,  0.10044251, -0.9574208 , -0.72610074, -0.6198973 ,\n",
       "         0.43202838, -0.24977283, -0.9303325 ,  0.09006168, -0.39143386,\n",
       "         0.42477617, -0.19037218,  0.58909094,  0.61835986,  0.7756438 ,\n",
       "        -0.44929457, -0.25957662, -0.10888799, -0.7642068 ,  0.7908044 ,\n",
       "        -0.7694124 , -0.77705926, -0.28069603,  1.        , -0.5086794 ,\n",
       "         0.7416071 ,  0.6666288 ,  0.5422482 , -0.14615066,  0.28395066,\n",
       "         0.8367086 ,  0.316858  , -0.3680485 , -0.45585242, -0.26230454,\n",
       "        -0.38029063,  0.6438532 ,  0.26595634,  0.42385715,  0.77560586,\n",
       "         0.7922857 ,  0.06505538, -0.11062638,  0.07849959,  0.9978015 ,\n",
       "        -0.24207138, -0.09731511, -0.29680958, -0.04047385, -0.43242317,\n",
       "        -0.3729207 ,  1.        ,  0.3428276 ,  0.24866088, -0.9841827 ,\n",
       "        -0.72783417, -0.90715754,  0.99999416,  0.7889069 , -0.6438035 ,\n",
       "         0.6173739 ,  0.5758847 , -0.2173393 ,  0.7403023 , -0.21694244,\n",
       "        -0.3421021 ,  0.34015772,  0.20448747,  0.9464978 , -0.5551024 ,\n",
       "        -0.959888  , -0.63931376,  0.42126918, -0.9601252 ,  0.9993273 ,\n",
       "        -0.6123679 , -0.30862567, -0.48837218,  0.05670875, -0.04379224,\n",
       "        -0.05965778, -0.9777751 , -0.23470914,  0.26393145,  0.93650585,\n",
       "         0.2516374 , -0.58634394, -0.8607494 ,  0.42886993,  0.5348885 ,\n",
       "        -0.74036413, -0.9352007 ,  0.95438987, -0.98324716,  0.56273264,\n",
       "         1.        ,  0.36404744, -0.2726747 ,  0.2716481 , -0.3138073 ,\n",
       "         0.3990546 , -0.14046288,  0.6919143 , -0.9532942 , -0.3330186 ,\n",
       "        -0.2758441 ,  0.3207118 , -0.05296607, -0.0863304 ,  0.7211512 ,\n",
       "         0.3183293 , -0.5753603 , -0.64402235, -0.07277008,  0.37587285,\n",
       "         0.79624057, -0.31274956, -0.15981907,  0.10306663, -0.17689157,\n",
       "        -0.9020268 , -0.24274904, -0.42970657, -0.9999428 ,  0.6102135 ,\n",
       "        -1.        ,  0.1290528 , -0.0217351 , -0.2561333 ,  0.8085138 ,\n",
       "         0.4122351 ,  0.48249158, -0.7430247 , -0.52767843,  0.72110087,\n",
       "         0.75718325, -0.27659103, -0.13871056, -0.6692679 ,  0.33566678,\n",
       "        -0.12340398,  0.19432381, -0.41920772,  0.7702906 , -0.20861536,\n",
       "         1.        ,  0.19842169, -0.7022212 , -0.95935786,  0.28013206,\n",
       "        -0.32280734,  1.        , -0.8032492 , -0.936816  ,  0.48870185,\n",
       "        -0.699383  , -0.8038303 ,  0.3988204 ,  0.09187997, -0.7380994 ,\n",
       "        -0.7911683 ,  0.956838  ,  0.8358982 , -0.56932575,  0.35293046,\n",
       "        -0.403655  , -0.5021296 ,  0.1103358 ,  0.6583076 ,  0.98286444,\n",
       "         0.4901551 ,  0.8539863 ,  0.336477  , -0.23734187,  0.9587931 ,\n",
       "         0.25272092,  0.09955031,  0.1411576 ,  1.        ,  0.4007183 ,\n",
       "        -0.91168517,  0.29426366, -0.9652767 , -0.24078622, -0.9275199 ,\n",
       "         0.3518067 ,  0.18471943,  0.8548741 , -0.26685783,  0.9438984 ,\n",
       "        -0.4435353 ,  0.07912517, -0.36127302, -0.2095141 ,  0.44330302,\n",
       "        -0.9019485 , -0.97630703, -0.9783917 ,  0.46832517, -0.4513647 ,\n",
       "        -0.06171404,  0.26388738,  0.10799236,  0.42653745,  0.42102233,\n",
       "        -1.        ,  0.9186555 ,  0.4486615 ,  0.70542824,  0.9470622 ,\n",
       "         0.6676287 ,  0.39927575,  0.2781416 , -0.9782588 , -0.9545289 ,\n",
       "        -0.34984064, -0.27751723,  0.75419617,  0.62963706,  0.8869117 ,\n",
       "         0.45810091, -0.5174986 , -0.44361666, -0.2305858 , -0.5806743 ,\n",
       "        -0.9883557 ,  0.54109377, -0.18455666, -0.9206006 ,  0.95547634,\n",
       "        -0.37479737, -0.2360208 ,  0.21043956, -0.7249211 ,  0.88061243,\n",
       "         0.7053113 ,  0.27755028,  0.20082875,  0.44235548,  0.82786036,\n",
       "         0.9438629 ,  0.9780414 , -0.59998786,  0.77119803, -0.29790422,\n",
       "         0.4827158 ,  0.81310827, -0.94657844,  0.18440644,  0.33430725,\n",
       "        -0.19741966,  0.29730448, -0.24216332, -0.949179  ,  0.62596613,\n",
       "        -0.3455226 ,  0.5549647 , -0.48181418,  0.06727876, -0.45455387,\n",
       "        -0.1308227 , -0.7180604 , -0.684919  ,  0.6076725 ,  0.47802126,\n",
       "         0.87378955,  0.7916539 , -0.06741507, -0.636685  , -0.09629793,\n",
       "        -0.52666545, -0.9140242 ,  0.9153959 , -0.07018681, -0.03965671,\n",
       "         0.463755  , -0.07191586,  0.88323   , -0.03506075, -0.32537302,\n",
       "        -0.25726035, -0.5969873 ,  0.8685006 , -0.47555724, -0.5282907 ,\n",
       "        -0.58753806,  0.7343622 ,  0.38223356,  0.99985254, -0.49018934,\n",
       "        -0.6528742 , -0.31901273, -0.37502062,  0.5290701 , -0.45907483,\n",
       "        -1.        ,  0.38152537, -0.24246167,  0.6038097 , -0.37211242,\n",
       "         0.61633575, -0.49123195, -0.9726141 , -0.32088694,  0.4406353 ,\n",
       "         0.5186921 , -0.52584916, -0.24004868,  0.5292172 ,  0.27421716,\n",
       "         0.90996385,  0.86396235, -0.04029118,  0.3274574 ,  0.60625416,\n",
       "        -0.64999294, -0.7160395 ,  0.8793282 ]], dtype=float32)>"
      ]
     },
     "execution_count": 36,
     "metadata": {},
     "output_type": "execute_result"
    }
   ],
   "source": [
    "def get_sentence_embedding(sentences):\n",
    "    preprocessed_text = bert_preprocess(sentences)\n",
    "    print(preprocessed_text['input_type_ids'])\n",
    "    print(preprocessed_text['input_mask'])\n",
    "    print(preprocessed_text['input_word_ids'])\n",
    "\n",
    "    return bert_encoder(preprocessed_text)['pooled_output']\n",
    "\n",
    "get_sentence_embedding([\n",
    "    'Hello My name is Pratik'\n",
    "    #'You have won a lottery! please click the link to accept it'\n",
    "    ])"
   ]
  },
  {
   "cell_type": "markdown",
   "metadata": {},
   "source": [
    "# BERT Model Configuration"
   ]
  },
  {
   "cell_type": "code",
   "execution_count": 37,
   "metadata": {
    "colab": {
     "base_uri": "https://localhost:8080/"
    },
    "id": "MqS4j_vZTbtd",
    "outputId": "4351a241-396d-4e35-808b-0cd0b7fd07fc"
   },
   "outputs": [
    {
     "name": "stdout",
     "output_type": "stream",
     "text": [
      "Model: \"model_1\"\n",
      "__________________________________________________________________________________________________\n",
      " Layer (type)                   Output Shape         Param #     Connected to                     \n",
      "==================================================================================================\n",
      " input (InputLayer)             [(None,)]            0           []                               \n",
      "                                                                                                  \n",
      " keras_layer_2 (KerasLayer)     {'input_type_ids':   0           ['input[0][0]']                  \n",
      "                                (None, 128),                                                      \n",
      "                                 'input_mask': (Non                                               \n",
      "                                e, 128),                                                          \n",
      "                                 'input_word_ids':                                                \n",
      "                                (None, 128)}                                                      \n",
      "                                                                                                  \n",
      " keras_layer_3 (KerasLayer)     {'pooled_output': (  109482241   ['keras_layer_2[0][0]',          \n",
      "                                None, 768),                       'keras_layer_2[0][1]',          \n",
      "                                 'sequence_output':               'keras_layer_2[0][2]']          \n",
      "                                 (None, 128, 768),                                                \n",
      "                                 'encoder_outputs':                                               \n",
      "                                 [(None, 128, 768),                                               \n",
      "                                 (None, 128, 768),                                                \n",
      "                                 (None, 128, 768),                                                \n",
      "                                 (None, 128, 768),                                                \n",
      "                                 (None, 128, 768),                                                \n",
      "                                 (None, 128, 768),                                                \n",
      "                                 (None, 128, 768),                                                \n",
      "                                 (None, 128, 768),                                                \n",
      "                                 (None, 128, 768),                                                \n",
      "                                 (None, 128, 768),                                                \n",
      "                                 (None, 128, 768),                                                \n",
      "                                 (None, 128, 768)],                                               \n",
      "                                 'default': (None,                                                \n",
      "                                768)}                                                             \n",
      "                                                                                                  \n",
      " Dense1 (Dense)                 (None, 128)          98432       ['keras_layer_3[0][13]']         \n",
      "                                                                                                  \n",
      " DropOut (Dropout)              (None, 128)          0           ['Dense1[0][0]']                 \n",
      "                                                                                                  \n",
      " Output (Dense)                 (None, 9)            1161        ['DropOut[0][0]']                \n",
      "                                                                                                  \n",
      "==================================================================================================\n",
      "Total params: 109,581,834\n",
      "Trainable params: 99,593\n",
      "Non-trainable params: 109,482,241\n",
      "__________________________________________________________________________________________________\n"
     ]
    }
   ],
   "source": [
    "# Bert Layers\n",
    "text_input_layer = tf.keras.Input(shape=(),dtype=tf.string,name='input')\n",
    "preprocessed_text_layer = bert_preprocess(text_input_layer)\n",
    "encoder_layer = bert_encoder(preprocessed_text_layer)\n",
    "\n",
    "# Neural network layers\n",
    "n1 = tf.keras.layers.Dense(128, activation='ReLU', name=\"Dense1\")(encoder_layer['pooled_output'])\n",
    "n2 = tf.keras.layers.Dropout(0.1,name = 'DropOut')(n1)\n",
    "output = tf.keras.layers.Dense(len(lb.classes_), activation='softmax', name=\"Output\")(n2)\n",
    "\n",
    "# Use inputs and outputs to construct a final model\n",
    "model = tf.keras.Model(inputs=[text_input_layer], outputs = [output])\n",
    "model.summary()"
   ]
  },
  {
   "cell_type": "code",
   "execution_count": 20,
   "metadata": {},
   "outputs": [
    {
     "data": {
      "image/png": "[encoded data removed]",
      "text/plain": [
       "<IPython.core.display.Image object>"
      ]
     },
     "execution_count": 20,
     "metadata": {},
     "output_type": "execute_result"
    }
   ],
   "source": [
    "import tensorflow as tf\n",
    "tf.keras.utils.plot_model(model, to_file='BERT.png', show_shapes=True)"
   ]
  },
  {
   "cell_type": "code",
   "execution_count": 38,
   "metadata": {
    "id": "drAm-WeEVrbi"
   },
   "outputs": [],
   "source": [
    "METRICS = [\n",
    "    tf.keras.metrics.CategoricalAccuracy(name='accuracy'),\n",
    "    tf.keras.metrics.Precision(name='precision'),\n",
    "    tf.keras.metrics.Recall(name='recall')\n",
    "]\n",
    "\n",
    "model.compile(optimizer='adam',\n",
    "              loss='categorical_crossentropy',\n",
    "              metrics=['accuracy'])"
   ]
  },
  {
   "cell_type": "markdown",
   "metadata": {},
   "source": [
    "### Training"
   ]
  },
  {
   "cell_type": "code",
   "execution_count": 39,
   "metadata": {
    "colab": {
     "background_save": true,
     "base_uri": "https://localhost:8080/"
    },
    "id": "9YbWb5d7WDq_",
    "outputId": "2facea96-cfd6-46a5-856f-1b22b21d7701"
   },
   "outputs": [
    {
     "name": "stdout",
     "output_type": "stream",
     "text": [
      "WARNING:tensorflow:ModelCheckpoint mode <built-in function min> is unknown, fallback to auto mode.\n"
     ]
    },
    {
     "name": "stderr",
     "output_type": "stream",
     "text": [
      "WARNING:tensorflow:ModelCheckpoint mode <built-in function min> is unknown, fallback to auto mode.\n"
     ]
    },
    {
     "name": "stdout",
     "output_type": "stream",
     "text": [
      "Epoch 1/5\n",
      "502/502 [==============================] - ETA: 0s - loss: 1.5712 - accuracy: 0.4364\n",
      "Epoch 1: loss improved from inf to 1.57119, saving model to /home/pratik/notebook/tweetProj/TweetProj/SavedModel/BERT-MergedCleaned/cp-001-0.4364.hdf5\n",
      "502/502 [==============================] - 1284s 3s/step - loss: 1.5712 - accuracy: 0.4364 - val_loss: 1.2818 - val_accuracy: 0.5766\n",
      "Epoch 2/5\n",
      "502/502 [==============================] - ETA: 0s - loss: 1.2734 - accuracy: 0.5552\n",
      "Epoch 2: loss improved from 1.57119 to 1.27337, saving model to /home/pratik/notebook/tweetProj/TweetProj/SavedModel/BERT-MergedCleaned/cp-002-0.5552.hdf5\n",
      "502/502 [==============================] - 1262s 3s/step - loss: 1.2734 - accuracy: 0.5552 - val_loss: 1.2540 - val_accuracy: 0.5423\n",
      "Epoch 3/5\n",
      "502/502 [==============================] - ETA: 0s - loss: 1.1283 - accuracy: 0.6120\n",
      "Epoch 3: loss improved from 1.27337 to 1.12833, saving model to /home/pratik/notebook/tweetProj/TweetProj/SavedModel/BERT-MergedCleaned/cp-003-0.6120.hdf5\n",
      "502/502 [==============================] - 1259s 3s/step - loss: 1.1283 - accuracy: 0.6120 - val_loss: 1.0650 - val_accuracy: 0.6242\n",
      "Epoch 4/5\n",
      "502/502 [==============================] - ETA: 0s - loss: 1.0424 - accuracy: 0.6425\n",
      "Epoch 4: loss improved from 1.12833 to 1.04240, saving model to /home/pratik/notebook/tweetProj/TweetProj/SavedModel/BERT-MergedCleaned/cp-004-0.6425.hdf5\n",
      "502/502 [==============================] - 1262s 3s/step - loss: 1.0424 - accuracy: 0.6425 - val_loss: 0.9385 - val_accuracy: 0.7061\n",
      "Epoch 5/5\n",
      "502/502 [==============================] - ETA: 0s - loss: 0.9832 - accuracy: 0.6601\n",
      "Epoch 5: loss improved from 1.04240 to 0.98316, saving model to /home/pratik/notebook/tweetProj/TweetProj/SavedModel/BERT-MergedCleaned/cp-005-0.6601.hdf5\n",
      "502/502 [==============================] - 1266s 3s/step - loss: 0.9832 - accuracy: 0.6601 - val_loss: 0.9221 - val_accuracy: 0.6865\n",
      "Execution time: 6333 seconds\n"
     ]
    }
   ],
   "source": [
    "os.environ['TF_CPP_MIN_LOG_LEVEL'] = '3' \n",
    "import tensorflow as tf\n",
    "import keras\n",
    "st = time.time()\n",
    "epochs = 5\n",
    "batch_size = 32\n",
    "\n",
    "checkpoint_path = '/home/pratik/notebook/tweetProj/TweetProj/SavedModel/BERT-MergedCleaned/cp-{epoch:03d}-{accuracy:0.4f}.hdf5'\n",
    "checkpoint_dir = os.path.dirname(checkpoint_path)\n",
    "\n",
    "cp_callback = keras.callbacks.ModelCheckpoint(\n",
    "    filepath=checkpoint_path, \n",
    "    monitor = 'loss',\n",
    "    mode = min,\n",
    "    save_best_only = True,\n",
    "    verbose=1)\n",
    "\n",
    "history = model.fit(X_train, Y_train, epochs = epochs, batch_size=batch_size,validation_split=0.1,callbacks=[EarlyStopping(monitor='val_loss', patience=3, min_delta=0.0001),cp_callback])\n",
    "\n",
    "et = time.time()\n",
    "elapsed_time = et - st\n",
    "print('Execution time: {:0.0f} seconds'.format(elapsed_time))\n",
    "\n",
    "model.save('/home/pratik/notebook/tweetProj/TweetProj/SavedModel/Bert-MergedCleaned_model.h5')\n",
    "\n",
    "import pickle\n",
    "with open('/home/pratik/notebook/tweetProj/TweetProj/SavedModel/Bert-MergedCleaned_history', 'wb') as file_pi:\n",
    "    pickle.dump(history, file_pi)"
   ]
  },
  {
   "cell_type": "markdown",
   "metadata": {},
   "source": [
    "# Load Model, History and Dataset"
   ]
  },
  {
   "cell_type": "code",
   "execution_count": null,
   "metadata": {
    "colab": {
     "base_uri": "https://localhost:8080/",
     "height": 329
    },
    "id": "IDBb2aaLLxG0",
    "outputId": "164ec7c3-612d-4367-d522-eaf034ec0e5c"
   },
   "outputs": [],
   "source": [
    "# import keras\n",
    "\n",
    "# newmodel = tf.keras.models.load_model('Bert_Kolkata_model.h5',custom_objects={'KerasLayer':hub.KerasLayer})\n",
    "# # new_model = tf.keras.models.load_model('saved_model/my_model')"
   ]
  },
  {
   "cell_type": "code",
   "execution_count": null,
   "metadata": {},
   "outputs": [],
   "source": [
    "# model.summary()"
   ]
  },
  {
   "cell_type": "code",
   "execution_count": null,
   "metadata": {},
   "outputs": [],
   "source": [
    "# import pickle\n",
    "# with open('Bert_Kolkata_history', \"rb\") as file_pi:\n",
    "#     newhistory = pickle.load(file_pi)"
   ]
  },
  {
   "cell_type": "code",
   "execution_count": null,
   "metadata": {},
   "outputs": [],
   "source": [
    "# with open('KolkataTrainTestData', 'rb') as file_pi:\n",
    "#     temp = pickle.load(file_pi)\n",
    "# X_train = temp[0] \n",
    "# X_test = temp[1]\n",
    "# y_train = temp[2]\n",
    "# y_test = temp[3]"
   ]
  },
  {
   "cell_type": "markdown",
   "metadata": {},
   "source": [
    "## Perform on Test Data"
   ]
  },
  {
   "cell_type": "code",
   "execution_count": null,
   "metadata": {},
   "outputs": [],
   "source": [
    "accr = model.evaluate(X_test,Y_test)\n",
    "print(\"Accuracy of model on test data : \" , accr[1]*100 , \"%\")"
   ]
  },
  {
   "cell_type": "markdown",
   "metadata": {},
   "source": [
    "## Result Analysis\n",
    "### Plot Training Testing Accuracy and Loss"
   ]
  },
  {
   "cell_type": "code",
   "execution_count": null,
   "metadata": {},
   "outputs": [],
   "source": [
    "epochList = [i for i in range(len(history.history['loss']))]\n",
    "fig , ax = plt.subplots(1,2)\n",
    "train_acc = history.history['accuracy']\n",
    "train_loss = history.history['loss']\n",
    "test_acc = history.history['val_accuracy']\n",
    "test_loss = history.history['val_loss']\n",
    "\n",
    "fig.set_size_inches(20,6)\n",
    "ax[0].plot(epochList , train_loss , label = 'Training Loss')\n",
    "ax[0].plot(epochList , test_loss , label = 'Testing Loss')\n",
    "ax[0].set_title('Training & Testing Loss')\n",
    "ax[0].legend()\n",
    "ax[0].set_xlabel(\"Epochs\")\n",
    "\n",
    "ax[1].plot(epochList , train_acc , label = 'Training Accuracy')\n",
    "ax[1].plot(epochList , test_acc , label = 'Testing Accuracy')\n",
    "ax[1].set_title('Training & Testing Accuracy')\n",
    "ax[1].legend()\n",
    "ax[1].set_xlabel(\"Epochs\")\n",
    "plt.show()"
   ]
  },
  {
   "cell_type": "markdown",
   "metadata": {},
   "source": [
    "### Prediction of Model on Test Data"
   ]
  },
  {
   "cell_type": "code",
   "execution_count": null,
   "metadata": {},
   "outputs": [],
   "source": [
    "pred_test = model.predict(X_test)"
   ]
  },
  {
   "cell_type": "code",
   "execution_count": null,
   "metadata": {},
   "outputs": [],
   "source": [
    "y_pred = lb.inverse_transform(pred_test)\n",
    "y_test = lb.inverse_transform(Y_test)"
   ]
  },
  {
   "cell_type": "code",
   "execution_count": null,
   "metadata": {},
   "outputs": [],
   "source": [
    "unique, counts = np.unique(y_test, return_counts=True)\n",
    "print(np.asarray((unique, counts)).T)"
   ]
  },
  {
   "cell_type": "markdown",
   "metadata": {},
   "source": [
    "### Plotting Confusion Matrix"
   ]
  },
  {
   "cell_type": "code",
   "execution_count": null,
   "metadata": {},
   "outputs": [],
   "source": [
    "cm = confusion_matrix(y_test, y_pred)\n",
    "cm1 = np.around(cm.astype('float') / cm.sum(axis=1)[:, np.newaxis], decimals=2)\n",
    "plt.figure(figsize = (30, 10))\n",
    "cm = pd.DataFrame(cm , index = [i for i in lb.classes_] , columns = [i for i in lb.classes_])\n",
    "cm1 = pd.DataFrame(cm1  , columns = [i for i in lb.classes_])\n",
    "\n",
    "fig , ax = plt.subplots(1,2,figsize=(10,5))\n",
    "sns.heatmap(cm, linecolor='white', cmap='Blues', linewidth=2, annot=True, fmt='',ax=ax[0])\n",
    "ax[0].set_title('Confusion Matrix', size=16)\n",
    "ax[0].set_xlabel('Predicted Labels', size=14)\n",
    "ax[0].set_ylabel('Actual Labels', size=14)\n",
    "\n",
    "sns.heatmap(cm1, linecolor='white', cmap='Blues', linewidth=1, annot=True, fmt='',ax=ax[1],yticklabels=False)\n",
    "ax[1].set_title('Normalized Confusion Matrix', size=16)\n",
    "ax[1].set_xlabel('Predicted Labels', size=14)\n",
    "plt.show()"
   ]
  },
  {
   "cell_type": "code",
   "execution_count": null,
   "metadata": {},
   "outputs": [],
   "source": [
    "# cm = confusion_matrix(y_test, y_pred)\n",
    "# # cm= np.around(cm.astype('float') / cm.sum(axis=1)[:, np.newaxis], decimals=2)\n",
    "# plt.figure(figsize = (12, 10))\n",
    "# cm = pd.DataFrame(cm , index = [i for i in lb.classes_] , columns = [i for i in lb.classes_])\n",
    "# sns.heatmap(cm, linecolor='white', cmap='Blues', linewidth=1, annot=True, fmt='')\n",
    "# plt.title('Confusion Matrix', size=20)\n",
    "# plt.xlabel('Predicted Labels', size=14)\n",
    "# plt.ylabel('Actual Labels', size=14)\n",
    "# plt.show()\n",
    "\n",
    "# cm = confusion_matrix(y_test, y_pred)\n",
    "# cm= np.around(cm.astype('float') / cm.sum(axis=1)[:, np.newaxis], decimals=2)\n",
    "# plt.figure(figsize = (12, 10))\n",
    "# cm = pd.DataFrame(cm , index = [i for i in lb.classes_] , columns = [i for i in lb.classes_])\n",
    "# sns.heatmap(cm, linecolor='white', cmap='Blues', linewidth=1, annot=True, fmt='')\n",
    "# plt.title('Normalized Confusion Matrix', size=20)\n",
    "# plt.xlabel('Predicted Labels', size=14)\n",
    "# plt.ylabel('Actual Labels', size=14)\n",
    "# plt.show()"
   ]
  },
  {
   "cell_type": "code",
   "execution_count": null,
   "metadata": {},
   "outputs": [],
   "source": [
    "print(classification_report(y_test, y_pred))"
   ]
  },
  {
   "cell_type": "code",
   "execution_count": null,
   "metadata": {},
   "outputs": [],
   "source": [
    "from sklearn.metrics import roc_auc_score, accuracy_score, roc_curve,auc\n",
    "\n",
    "# roc curve for classes\n",
    "fpr = {}\n",
    "tpr = {}\n",
    "thresh ={}\n",
    "roc_auc = dict()\n",
    "\n",
    "classes = lb.classes_\n",
    "\n",
    "for i in range(len(classes)):\n",
    "    # fpr[i], tpr[i], thresh[i] = roc_curve(y_test_binarized[:,i], pred_prob[:,i])\n",
    "    fpr[i], tpr[i], thresh[i] = roc_curve(Y_test[:,i], pred_test[:,i])\n",
    "    roc_auc[i] = auc(fpr[i], tpr[i])\n",
    "\n",
    "    # plotting\n",
    "    plt.plot(fpr[i], tpr[i], linestyle='--',\n",
    "             label='%s vs Rest (AUC=%0.2f)'%(classes[i],roc_auc[i]))\n",
    "\n",
    "plt.plot([0,1],[0,1],'b--')\n",
    "plt.xlim([0,1])\n",
    "plt.ylim([0,1.05])\n",
    "plt.title('Multiclass ROC curve')\n",
    "plt.xlabel('False Positive Rate')\n",
    "plt.ylabel('True Positive rate')\n",
    "plt.legend(loc='lower right')\n",
    "plt.show()"
   ]
  },
  {
   "cell_type": "markdown",
   "metadata": {},
   "source": [
    "## Calculating Evaluation Metric"
   ]
  },
  {
   "cell_type": "code",
   "execution_count": null,
   "metadata": {},
   "outputs": [],
   "source": [
    "from sklearn.metrics import precision_recall_fscore_support as score\n",
    "from sklearn.metrics import roc_auc_score\n",
    "accuracy = accuracy_score(y_test, y_pred)\n",
    "precision, recall, fscore,_  = score(y_test, y_pred, average='macro')\n",
    "roc_auc = roc_auc_score(y_test, pred_test,multi_class='ovr')\n",
    "print('Accuracy, precision, recall, fscore, Roc-AUC')\n",
    "print('{:.3f},{:.3f},{:.3f},{:.3f},{:.3f}'.format(accuracy,precision,recall,fscore,roc_auc))"
   ]
  },
  {
   "cell_type": "code",
   "execution_count": null,
   "metadata": {},
   "outputs": [],
   "source": [
    "print('{},{:.0f},{:.4f},{:.4f}'.format(len(history.history['loss']),elapsed_time,train_acc[-1],test_acc[-1]))"
   ]
  },
  {
   "cell_type": "markdown",
   "metadata": {},
   "source": [
    "## Test on Customized Tweet"
   ]
  },
  {
   "cell_type": "code",
   "execution_count": null,
   "metadata": {},
   "outputs": [],
   "source": [
    "lb.classes_"
   ]
  },
  {
   "cell_type": "code",
   "execution_count": null,
   "metadata": {},
   "outputs": [],
   "source": [
    "new_complaint = ['Severe accident on 1 no street']\n",
    "seq = tokenizer.texts_to_sequences(new_complaint)\n",
    "padded = pad_sequences(seq, maxlen=MAX_SEQUENCE_LENGTH)\n",
    "pred = model.predict(padded)\n",
    "print(pred)\n",
    "print('Label: {}'.format(lb.classes_[np.argmax(pred)]))"
   ]
  }
 ],
 "metadata": {
  "colab": {
   "provenance": []
  },
  "kernelspec": {
   "display_name": "Python 3 (ipykernel)",
   "language": "python",
   "name": "python3"
  },
  "language_info": {
   "codemirror_mode": {
    "name": "ipython",
    "version": 3
   },
   "file_extension": ".py",
   "mimetype": "text/x-python",
   "name": "python",
   "nbconvert_exporter": "python",
   "pygments_lexer": "ipython3",
   "version": "3.8.16"
  }
 },
 "nbformat": 4,
 "nbformat_minor": 1
}
