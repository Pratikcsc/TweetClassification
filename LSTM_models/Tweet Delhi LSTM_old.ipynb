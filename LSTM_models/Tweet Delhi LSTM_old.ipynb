{
 "cells": [
  {
   "cell_type": "code",
   "execution_count": 1,
   "metadata": {},
   "outputs": [
    {
     "data": {
      "text/plain": [
       "False"
      ]
     },
     "execution_count": 1,
     "metadata": {},
     "output_type": "execute_result"
    }
   ],
   "source": [
    "import torch\n",
    "torch.cuda.is_available()"
   ]
  },
  {
   "cell_type": "code",
   "execution_count": 1,
   "metadata": {
    "colab": {
     "base_uri": "https://localhost:8080/"
    },
    "executionInfo": {
     "elapsed": 6418,
     "status": "ok",
     "timestamp": 1687447923758,
     "user": {
      "displayName": "Pratik Dutta",
      "userId": "14379323121603271074"
     },
     "user_tz": -330
    },
    "id": "NQ961IZ6FOIW",
    "outputId": "48aae54f-727d-4556-944a-48b1d7fb7d7b"
   },
   "outputs": [
    {
     "name": "stdout",
     "output_type": "stream",
     "text": [
      "Looking in indexes: https://pypi.org/simple, https://us-python.pkg.dev/colab-wheels/public/simple/\n",
      "Requirement already satisfied: nltk in /usr/local/lib/python3.10/dist-packages (3.8.1)\n",
      "Requirement already satisfied: click in /usr/local/lib/python3.10/dist-packages (from nltk) (8.1.3)\n",
      "Requirement already satisfied: joblib in /usr/local/lib/python3.10/dist-packages (from nltk) (1.2.0)\n",
      "Requirement already satisfied: regex>=2021.8.3 in /usr/local/lib/python3.10/dist-packages (from nltk) (2022.10.31)\n",
      "Requirement already satisfied: tqdm in /usr/local/lib/python3.10/dist-packages (from nltk) (4.65.0)\n"
     ]
    },
    {
     "name": "stderr",
     "output_type": "stream",
     "text": [
      "[nltk_data] Downloading package stopwords to /root/nltk_data...\n",
      "[nltk_data]   Unzipping corpora/stopwords.zip.\n"
     ]
    },
    {
     "data": {
      "text/plain": [
       "True"
      ]
     },
     "execution_count": 1,
     "metadata": {},
     "output_type": "execute_result"
    }
   ],
   "source": [
    "# !pip install nltk\n",
    "# import nltk\n",
    "# nltk.download('stopwords')"
   ]
  },
  {
   "cell_type": "code",
   "execution_count": 3,
   "metadata": {
    "executionInfo": {
     "elapsed": 449,
     "status": "ok",
     "timestamp": 1687447954461,
     "user": {
      "displayName": "Pratik Dutta",
      "userId": "14379323121603271074"
     },
     "user_tz": -330
    },
    "id": "fA4RY1NcEHSK"
   },
   "outputs": [],
   "source": [
    "import numpy as np\n",
    "import pandas as pd\n",
    "import matplotlib.pyplot as plt\n",
    "import seaborn as sns\n",
    "from keras.preprocessing.text import Tokenizer\n",
    "from keras.utils import pad_sequences\n",
    "from keras.models import Sequential\n",
    "from keras.layers import Dense, Embedding, LSTM, SpatialDropout1D\n",
    "from sklearn.model_selection import train_test_split\n",
    "from keras.utils.np_utils import to_categorical\n",
    "from keras.callbacks import EarlyStopping\n",
    "from keras.layers import Dropout\n",
    "import re\n",
    "from nltk.corpus import stopwords\n",
    "from nltk import word_tokenize\n",
    "STOPWORDS = set(stopwords.words('english'))\n",
    "# from bs4 import BeautifulSoup\n",
    "# import plotly.graph_objs as go\n",
    "# # import plotly.plotly as py\n",
    "# import cufflinks\n",
    "# from IPython.core.interactiveshell import InteractiveShell\n",
    "# import plotly.figure_factory as ff\n",
    "# InteractiveShell.ast_node_interactivity = 'all'\n",
    "# from plotly.offline import iplot\n",
    "# cufflinks.go_offline()\n",
    "# cufflinks.set_config_file(world_readable=True, theme='pearl')\n",
    "\n",
    "from sklearn.preprocessing import StandardScaler, OneHotEncoder\n",
    "from sklearn.preprocessing import LabelEncoder\n",
    "from sklearn.metrics import confusion_matrix, classification_report"
   ]
  },
  {
   "cell_type": "code",
   "execution_count": 36,
   "metadata": {
    "colab": {
     "base_uri": "https://localhost:8080/"
    },
    "executionInfo": {
     "elapsed": 4707,
     "status": "ok",
     "timestamp": 1687449014704,
     "user": {
      "displayName": "Pratik Dutta",
      "userId": "14379323121603271074"
     },
     "user_tz": -330
    },
    "id": "yseW0D50Nwzu",
    "outputId": "0b39e1f0-bef9-4cfa-9b3c-1be4a513a426"
   },
   "outputs": [
    {
     "name": "stdout",
     "output_type": "stream",
     "text": [
      "Drive already mounted at /content/drive; to attempt to forcibly remount, call drive.mount(\"/content/drive\", force_remount=True).\n"
     ]
    }
   ],
   "source": [
    "from google.colab import drive\n",
    "drive.mount('/content/drive')"
   ]
  },
  {
   "cell_type": "code",
   "execution_count": 59,
   "metadata": {
    "executionInfo": {
     "elapsed": 6,
     "status": "ok",
     "timestamp": 1687450297825,
     "user": {
      "displayName": "Pratik Dutta",
      "userId": "14379323121603271074"
     },
     "user_tz": -330
    },
    "id": "BHDHZTlqxJJG"
   },
   "outputs": [],
   "source": [
    "path = '/content/drive/MyDrive/Datas/Tweet Proj/delhi/'"
   ]
  },
  {
   "cell_type": "code",
   "execution_count": 40,
   "metadata": {
    "colab": {
     "base_uri": "https://localhost:8080/",
     "height": 424
    },
    "executionInfo": {
     "elapsed": 1274,
     "status": "ok",
     "timestamp": 1687449092681,
     "user": {
      "displayName": "Pratik Dutta",
      "userId": "14379323121603271074"
     },
     "user_tz": -330
    },
    "id": "GCSvx7T9EHSP",
    "outputId": "49e8b3ea-7b68-4648-9504-c04d77c36f17"
   },
   "outputs": [
    {
     "data": {
      "text/html": [
       "\n",
       "  <div id=\"df-6017c8e7-631e-417a-a50d-8bfa50c6e2d3\">\n",
       "    <div class=\"colab-df-container\">\n",
       "      <div>\n",
       "<style scoped>\n",
       "    .dataframe tbody tr th:only-of-type {\n",
       "        vertical-align: middle;\n",
       "    }\n",
       "\n",
       "    .dataframe tbody tr th {\n",
       "        vertical-align: top;\n",
       "    }\n",
       "\n",
       "    .dataframe thead th {\n",
       "        text-align: right;\n",
       "    }\n",
       "</style>\n",
       "<table border=\"1\" class=\"dataframe\">\n",
       "  <thead>\n",
       "    <tr style=\"text-align: right;\">\n",
       "      <th></th>\n",
       "      <th>Unnamed: 0</th>\n",
       "      <th>Tweet</th>\n",
       "      <th>label</th>\n",
       "    </tr>\n",
       "  </thead>\n",
       "  <tbody>\n",
       "    <tr>\n",
       "      <th>0</th>\n",
       "      <td>0</td>\n",
       "      <td>Traffic coming from Rohini towards Mukundpur...</td>\n",
       "      <td>Others</td>\n",
       "    </tr>\n",
       "    <tr>\n",
       "      <th>1</th>\n",
       "      <td>1</td>\n",
       "      <td>so that concerned area traffic staff can be i...</td>\n",
       "      <td>Traffic information/advisory</td>\n",
       "    </tr>\n",
       "    <tr>\n",
       "      <th>2</th>\n",
       "      <td>2</td>\n",
       "      <td>The authority concerned has been given tentat...</td>\n",
       "      <td>Others</td>\n",
       "    </tr>\n",
       "    <tr>\n",
       "      <th>3</th>\n",
       "      <td>3</td>\n",
       "      <td>A tree has fallen down at Gate no High Court</td>\n",
       "      <td>Others</td>\n",
       "    </tr>\n",
       "    <tr>\n",
       "      <th>4</th>\n",
       "      <td>4</td>\n",
       "      <td>and reach RA Samrat And another rehearsal wil...</td>\n",
       "      <td>Others</td>\n",
       "    </tr>\n",
       "    <tr>\n",
       "      <th>...</th>\n",
       "      <td>...</td>\n",
       "      <td>...</td>\n",
       "      <td>...</td>\n",
       "    </tr>\n",
       "    <tr>\n",
       "      <th>15433</th>\n",
       "      <td>15433</td>\n",
       "      <td>Your views please on this road project Satyend...</td>\n",
       "      <td>Others</td>\n",
       "    </tr>\n",
       "    <tr>\n",
       "      <th>15434</th>\n",
       "      <td>15434</td>\n",
       "      <td>YPoint on Choudhary Dilip Singh Marg Hauz Khas...</td>\n",
       "      <td>Road closure</td>\n",
       "    </tr>\n",
       "    <tr>\n",
       "      <th>15435</th>\n",
       "      <td>15435</td>\n",
       "      <td>ZainDh Sir due to demonstration of taxi driver...</td>\n",
       "      <td>Traffic congestion/heavy traffic</td>\n",
       "    </tr>\n",
       "    <tr>\n",
       "      <th>15436</th>\n",
       "      <td>15436</td>\n",
       "      <td>Zakhira on New Rohtak RoadVehicle coming from ...</td>\n",
       "      <td>Others</td>\n",
       "    </tr>\n",
       "    <tr>\n",
       "      <th>15437</th>\n",
       "      <td>15437</td>\n",
       "      <td>ZO and Constable in evening shift have been de...</td>\n",
       "      <td>Others</td>\n",
       "    </tr>\n",
       "  </tbody>\n",
       "</table>\n",
       "<p>15438 rows × 3 columns</p>\n",
       "</div>\n",
       "      <button class=\"colab-df-convert\" onclick=\"convertToInteractive('df-6017c8e7-631e-417a-a50d-8bfa50c6e2d3')\"\n",
       "              title=\"Convert this dataframe to an interactive table.\"\n",
       "              style=\"display:none;\">\n",
       "        \n",
       "  <svg xmlns=\"http://www.w3.org/2000/svg\" height=\"24px\"viewBox=\"0 0 24 24\"\n",
       "       width=\"24px\">\n",
       "    <path d=\"M0 0h24v24H0V0z\" fill=\"none\"/>\n",
       "    <path d=\"M18.56 5.44l.94 2.06.94-2.06 2.06-.94-2.06-.94-.94-2.06-.94 2.06-2.06.94zm-11 1L8.5 8.5l.94-2.06 2.06-.94-2.06-.94L8.5 2.5l-.94 2.06-2.06.94zm10 10l.94 2.06.94-2.06 2.06-.94-2.06-.94-.94-2.06-.94 2.06-2.06.94z\"/><path d=\"M17.41 7.96l-1.37-1.37c-.4-.4-.92-.59-1.43-.59-.52 0-1.04.2-1.43.59L10.3 9.45l-7.72 7.72c-.78.78-.78 2.05 0 2.83L4 21.41c.39.39.9.59 1.41.59.51 0 1.02-.2 1.41-.59l7.78-7.78 2.81-2.81c.8-.78.8-2.07 0-2.86zM5.41 20L4 18.59l7.72-7.72 1.47 1.35L5.41 20z\"/>\n",
       "  </svg>\n",
       "      </button>\n",
       "      \n",
       "  <style>\n",
       "    .colab-df-container {\n",
       "      display:flex;\n",
       "      flex-wrap:wrap;\n",
       "      gap: 12px;\n",
       "    }\n",
       "\n",
       "    .colab-df-convert {\n",
       "      background-color: #E8F0FE;\n",
       "      border: none;\n",
       "      border-radius: 50%;\n",
       "      cursor: pointer;\n",
       "      display: none;\n",
       "      fill: #1967D2;\n",
       "      height: 32px;\n",
       "      padding: 0 0 0 0;\n",
       "      width: 32px;\n",
       "    }\n",
       "\n",
       "    .colab-df-convert:hover {\n",
       "      background-color: #E2EBFA;\n",
       "      box-shadow: 0px 1px 2px rgba(60, 64, 67, 0.3), 0px 1px 3px 1px rgba(60, 64, 67, 0.15);\n",
       "      fill: #174EA6;\n",
       "    }\n",
       "\n",
       "    [theme=dark] .colab-df-convert {\n",
       "      background-color: #3B4455;\n",
       "      fill: #D2E3FC;\n",
       "    }\n",
       "\n",
       "    [theme=dark] .colab-df-convert:hover {\n",
       "      background-color: #434B5C;\n",
       "      box-shadow: 0px 1px 3px 1px rgba(0, 0, 0, 0.15);\n",
       "      filter: drop-shadow(0px 1px 2px rgba(0, 0, 0, 0.3));\n",
       "      fill: #FFFFFF;\n",
       "    }\n",
       "  </style>\n",
       "\n",
       "      <script>\n",
       "        const buttonEl =\n",
       "          document.querySelector('#df-6017c8e7-631e-417a-a50d-8bfa50c6e2d3 button.colab-df-convert');\n",
       "        buttonEl.style.display =\n",
       "          google.colab.kernel.accessAllowed ? 'block' : 'none';\n",
       "\n",
       "        async function convertToInteractive(key) {\n",
       "          const element = document.querySelector('#df-6017c8e7-631e-417a-a50d-8bfa50c6e2d3');\n",
       "          const dataTable =\n",
       "            await google.colab.kernel.invokeFunction('convertToInteractive',\n",
       "                                                     [key], {});\n",
       "          if (!dataTable) return;\n",
       "\n",
       "          const docLinkHtml = 'Like what you see? Visit the ' +\n",
       "            '<a target=\"_blank\" href=https://colab.research.google.com/notebooks/data_table.ipynb>data table notebook</a>'\n",
       "            + ' to learn more about interactive tables.';\n",
       "          element.innerHTML = '';\n",
       "          dataTable['output_type'] = 'display_data';\n",
       "          await google.colab.output.renderOutput(dataTable, element);\n",
       "          const docLink = document.createElement('div');\n",
       "          docLink.innerHTML = docLinkHtml;\n",
       "          element.appendChild(docLink);\n",
       "        }\n",
       "      </script>\n",
       "    </div>\n",
       "  </div>\n",
       "  "
      ],
      "text/plain": [
       "       Unnamed: 0                                              Tweet  \\\n",
       "0               0    Traffic coming from Rohini towards Mukundpur...   \n",
       "1               1   so that concerned area traffic staff can be i...   \n",
       "2               2   The authority concerned has been given tentat...   \n",
       "3               3      A tree has fallen down at Gate no High Court    \n",
       "4               4   and reach RA Samrat And another rehearsal wil...   \n",
       "...           ...                                                ...   \n",
       "15433       15433  Your views please on this road project Satyend...   \n",
       "15434       15434  YPoint on Choudhary Dilip Singh Marg Hauz Khas...   \n",
       "15435       15435  ZainDh Sir due to demonstration of taxi driver...   \n",
       "15436       15436  Zakhira on New Rohtak RoadVehicle coming from ...   \n",
       "15437       15437  ZO and Constable in evening shift have been de...   \n",
       "\n",
       "                                  label  \n",
       "0                                Others  \n",
       "1          Traffic information/advisory  \n",
       "2                                Others  \n",
       "3                                Others  \n",
       "4                                Others  \n",
       "...                                 ...  \n",
       "15433                            Others  \n",
       "15434                      Road closure  \n",
       "15435  Traffic congestion/heavy traffic  \n",
       "15436                            Others  \n",
       "15437                            Others  \n",
       "\n",
       "[15438 rows x 3 columns]"
      ]
     },
     "execution_count": 40,
     "metadata": {},
     "output_type": "execute_result"
    }
   ],
   "source": [
    "df = pd.read_csv(path+'delhi_data.csv')\n",
    "df"
   ]
  },
  {
   "cell_type": "code",
   "execution_count": 18,
   "metadata": {
    "executionInfo": {
     "elapsed": 482,
     "status": "ok",
     "timestamp": 1687448689422,
     "user": {
      "displayName": "Pratik Dutta",
      "userId": "14379323121603271074"
     },
     "user_tz": -330
    },
    "id": "hoSrzo7PG4Jh"
   },
   "outputs": [],
   "source": [
    "# df.label.replace({0:'Traffic obstruction/car breakdown',1:'Water logging', 2:'Traffic congestion/heavy traffic',3:'Road closure', 4:'City program', 5:'Accident', 6:'Traffic information/advisory',-1:'Others'},inplace=True)"
   ]
  },
  {
   "cell_type": "code",
   "execution_count": 41,
   "metadata": {
    "colab": {
     "base_uri": "https://localhost:8080/",
     "height": 424
    },
    "executionInfo": {
     "elapsed": 1099,
     "status": "ok",
     "timestamp": 1687449098949,
     "user": {
      "displayName": "Pratik Dutta",
      "userId": "14379323121603271074"
     },
     "user_tz": -330
    },
    "id": "bm8wSdkDOCeO",
    "outputId": "f1f38fdc-f7a6-45a5-f33f-2d2235a0cd9c"
   },
   "outputs": [
    {
     "data": {
      "text/html": [
       "\n",
       "  <div id=\"df-01047ade-3f97-435c-bce4-fd212026aa52\">\n",
       "    <div class=\"colab-df-container\">\n",
       "      <div>\n",
       "<style scoped>\n",
       "    .dataframe tbody tr th:only-of-type {\n",
       "        vertical-align: middle;\n",
       "    }\n",
       "\n",
       "    .dataframe tbody tr th {\n",
       "        vertical-align: top;\n",
       "    }\n",
       "\n",
       "    .dataframe thead th {\n",
       "        text-align: right;\n",
       "    }\n",
       "</style>\n",
       "<table border=\"1\" class=\"dataframe\">\n",
       "  <thead>\n",
       "    <tr style=\"text-align: right;\">\n",
       "      <th></th>\n",
       "      <th>Unnamed: 0</th>\n",
       "      <th>Tweet</th>\n",
       "      <th>label</th>\n",
       "    </tr>\n",
       "  </thead>\n",
       "  <tbody>\n",
       "    <tr>\n",
       "      <th>0</th>\n",
       "      <td>0</td>\n",
       "      <td>Traffic coming from Rohini towards Mukundpur...</td>\n",
       "      <td>Others</td>\n",
       "    </tr>\n",
       "    <tr>\n",
       "      <th>1</th>\n",
       "      <td>1</td>\n",
       "      <td>so that concerned area traffic staff can be i...</td>\n",
       "      <td>Traffic information/advisory</td>\n",
       "    </tr>\n",
       "    <tr>\n",
       "      <th>2</th>\n",
       "      <td>2</td>\n",
       "      <td>The authority concerned has been given tentat...</td>\n",
       "      <td>Others</td>\n",
       "    </tr>\n",
       "    <tr>\n",
       "      <th>3</th>\n",
       "      <td>3</td>\n",
       "      <td>A tree has fallen down at Gate no High Court</td>\n",
       "      <td>Others</td>\n",
       "    </tr>\n",
       "    <tr>\n",
       "      <th>4</th>\n",
       "      <td>4</td>\n",
       "      <td>and reach RA Samrat And another rehearsal wil...</td>\n",
       "      <td>Others</td>\n",
       "    </tr>\n",
       "    <tr>\n",
       "      <th>...</th>\n",
       "      <td>...</td>\n",
       "      <td>...</td>\n",
       "      <td>...</td>\n",
       "    </tr>\n",
       "    <tr>\n",
       "      <th>15433</th>\n",
       "      <td>15433</td>\n",
       "      <td>Your views please on this road project Satyend...</td>\n",
       "      <td>Others</td>\n",
       "    </tr>\n",
       "    <tr>\n",
       "      <th>15434</th>\n",
       "      <td>15434</td>\n",
       "      <td>YPoint on Choudhary Dilip Singh Marg Hauz Khas...</td>\n",
       "      <td>Road closure</td>\n",
       "    </tr>\n",
       "    <tr>\n",
       "      <th>15435</th>\n",
       "      <td>15435</td>\n",
       "      <td>ZainDh Sir due to demonstration of taxi driver...</td>\n",
       "      <td>Traffic congestion/heavy traffic</td>\n",
       "    </tr>\n",
       "    <tr>\n",
       "      <th>15436</th>\n",
       "      <td>15436</td>\n",
       "      <td>Zakhira on New Rohtak RoadVehicle coming from ...</td>\n",
       "      <td>Others</td>\n",
       "    </tr>\n",
       "    <tr>\n",
       "      <th>15437</th>\n",
       "      <td>15437</td>\n",
       "      <td>ZO and Constable in evening shift have been de...</td>\n",
       "      <td>Others</td>\n",
       "    </tr>\n",
       "  </tbody>\n",
       "</table>\n",
       "<p>15438 rows × 3 columns</p>\n",
       "</div>\n",
       "      <button class=\"colab-df-convert\" onclick=\"convertToInteractive('df-01047ade-3f97-435c-bce4-fd212026aa52')\"\n",
       "              title=\"Convert this dataframe to an interactive table.\"\n",
       "              style=\"display:none;\">\n",
       "        \n",
       "  <svg xmlns=\"http://www.w3.org/2000/svg\" height=\"24px\"viewBox=\"0 0 24 24\"\n",
       "       width=\"24px\">\n",
       "    <path d=\"M0 0h24v24H0V0z\" fill=\"none\"/>\n",
       "    <path d=\"M18.56 5.44l.94 2.06.94-2.06 2.06-.94-2.06-.94-.94-2.06-.94 2.06-2.06.94zm-11 1L8.5 8.5l.94-2.06 2.06-.94-2.06-.94L8.5 2.5l-.94 2.06-2.06.94zm10 10l.94 2.06.94-2.06 2.06-.94-2.06-.94-.94-2.06-.94 2.06-2.06.94z\"/><path d=\"M17.41 7.96l-1.37-1.37c-.4-.4-.92-.59-1.43-.59-.52 0-1.04.2-1.43.59L10.3 9.45l-7.72 7.72c-.78.78-.78 2.05 0 2.83L4 21.41c.39.39.9.59 1.41.59.51 0 1.02-.2 1.41-.59l7.78-7.78 2.81-2.81c.8-.78.8-2.07 0-2.86zM5.41 20L4 18.59l7.72-7.72 1.47 1.35L5.41 20z\"/>\n",
       "  </svg>\n",
       "      </button>\n",
       "      \n",
       "  <style>\n",
       "    .colab-df-container {\n",
       "      display:flex;\n",
       "      flex-wrap:wrap;\n",
       "      gap: 12px;\n",
       "    }\n",
       "\n",
       "    .colab-df-convert {\n",
       "      background-color: #E8F0FE;\n",
       "      border: none;\n",
       "      border-radius: 50%;\n",
       "      cursor: pointer;\n",
       "      display: none;\n",
       "      fill: #1967D2;\n",
       "      height: 32px;\n",
       "      padding: 0 0 0 0;\n",
       "      width: 32px;\n",
       "    }\n",
       "\n",
       "    .colab-df-convert:hover {\n",
       "      background-color: #E2EBFA;\n",
       "      box-shadow: 0px 1px 2px rgba(60, 64, 67, 0.3), 0px 1px 3px 1px rgba(60, 64, 67, 0.15);\n",
       "      fill: #174EA6;\n",
       "    }\n",
       "\n",
       "    [theme=dark] .colab-df-convert {\n",
       "      background-color: #3B4455;\n",
       "      fill: #D2E3FC;\n",
       "    }\n",
       "\n",
       "    [theme=dark] .colab-df-convert:hover {\n",
       "      background-color: #434B5C;\n",
       "      box-shadow: 0px 1px 3px 1px rgba(0, 0, 0, 0.15);\n",
       "      filter: drop-shadow(0px 1px 2px rgba(0, 0, 0, 0.3));\n",
       "      fill: #FFFFFF;\n",
       "    }\n",
       "  </style>\n",
       "\n",
       "      <script>\n",
       "        const buttonEl =\n",
       "          document.querySelector('#df-01047ade-3f97-435c-bce4-fd212026aa52 button.colab-df-convert');\n",
       "        buttonEl.style.display =\n",
       "          google.colab.kernel.accessAllowed ? 'block' : 'none';\n",
       "\n",
       "        async function convertToInteractive(key) {\n",
       "          const element = document.querySelector('#df-01047ade-3f97-435c-bce4-fd212026aa52');\n",
       "          const dataTable =\n",
       "            await google.colab.kernel.invokeFunction('convertToInteractive',\n",
       "                                                     [key], {});\n",
       "          if (!dataTable) return;\n",
       "\n",
       "          const docLinkHtml = 'Like what you see? Visit the ' +\n",
       "            '<a target=\"_blank\" href=https://colab.research.google.com/notebooks/data_table.ipynb>data table notebook</a>'\n",
       "            + ' to learn more about interactive tables.';\n",
       "          element.innerHTML = '';\n",
       "          dataTable['output_type'] = 'display_data';\n",
       "          await google.colab.output.renderOutput(dataTable, element);\n",
       "          const docLink = document.createElement('div');\n",
       "          docLink.innerHTML = docLinkHtml;\n",
       "          element.appendChild(docLink);\n",
       "        }\n",
       "      </script>\n",
       "    </div>\n",
       "  </div>\n",
       "  "
      ],
      "text/plain": [
       "       Unnamed: 0                                              Tweet  \\\n",
       "0               0    Traffic coming from Rohini towards Mukundpur...   \n",
       "1               1   so that concerned area traffic staff can be i...   \n",
       "2               2   The authority concerned has been given tentat...   \n",
       "3               3      A tree has fallen down at Gate no High Court    \n",
       "4               4   and reach RA Samrat And another rehearsal wil...   \n",
       "...           ...                                                ...   \n",
       "15433       15433  Your views please on this road project Satyend...   \n",
       "15434       15434  YPoint on Choudhary Dilip Singh Marg Hauz Khas...   \n",
       "15435       15435  ZainDh Sir due to demonstration of taxi driver...   \n",
       "15436       15436  Zakhira on New Rohtak RoadVehicle coming from ...   \n",
       "15437       15437  ZO and Constable in evening shift have been de...   \n",
       "\n",
       "                                  label  \n",
       "0                                Others  \n",
       "1          Traffic information/advisory  \n",
       "2                                Others  \n",
       "3                                Others  \n",
       "4                                Others  \n",
       "...                                 ...  \n",
       "15433                            Others  \n",
       "15434                      Road closure  \n",
       "15435  Traffic congestion/heavy traffic  \n",
       "15436                            Others  \n",
       "15437                            Others  \n",
       "\n",
       "[15438 rows x 3 columns]"
      ]
     },
     "execution_count": 41,
     "metadata": {},
     "output_type": "execute_result"
    }
   ],
   "source": [
    "# df = df.iloc[:,1:]\n",
    "df.dropna(inplace=True)\n",
    "# df = df[df.Narrative != 'name']\n",
    "# df.reset_index(inplace=True)\n",
    "df"
   ]
  },
  {
   "cell_type": "code",
   "execution_count": 21,
   "metadata": {
    "executionInfo": {
     "elapsed": 593,
     "status": "ok",
     "timestamp": 1687448783808,
     "user": {
      "displayName": "Pratik Dutta",
      "userId": "14379323121603271074"
     },
     "user_tz": -330
    },
    "id": "bazIuqedyKiR"
   },
   "outputs": [],
   "source": [
    "# df.to_csv(path+'delhi_data.csv')"
   ]
  },
  {
   "cell_type": "code",
   "execution_count": 42,
   "metadata": {
    "colab": {
     "base_uri": "https://localhost:8080/"
    },
    "executionInfo": {
     "elapsed": 6,
     "status": "ok",
     "timestamp": 1687449104201,
     "user": {
      "displayName": "Pratik Dutta",
      "userId": "14379323121603271074"
     },
     "user_tz": -330
    },
    "id": "9nlgA-psOKTT",
    "outputId": "a9efed4c-6300-429b-f2f0-24da816d3755"
   },
   "outputs": [
    {
     "name": "stdout",
     "output_type": "stream",
     "text": [
      "<class 'pandas.core.frame.DataFrame'>\n",
      "RangeIndex: 15438 entries, 0 to 15437\n",
      "Data columns (total 3 columns):\n",
      " #   Column      Non-Null Count  Dtype \n",
      "---  ------      --------------  ----- \n",
      " 0   Unnamed: 0  15438 non-null  int64 \n",
      " 1   Tweet       15438 non-null  object\n",
      " 2   label       15438 non-null  object\n",
      "dtypes: int64(1), object(2)\n",
      "memory usage: 362.0+ KB\n"
     ]
    }
   ],
   "source": [
    "df.info()"
   ]
  },
  {
   "cell_type": "code",
   "execution_count": 43,
   "metadata": {
    "colab": {
     "base_uri": "https://localhost:8080/"
    },
    "executionInfo": {
     "elapsed": 7,
     "status": "ok",
     "timestamp": 1687449107762,
     "user": {
      "displayName": "Pratik Dutta",
      "userId": "14379323121603271074"
     },
     "user_tz": -330
    },
    "id": "o7EEYkYTEHSR",
    "outputId": "10b6249c-f726-48bf-e17e-c761697e66c6"
   },
   "outputs": [
    {
     "data": {
      "text/plain": [
       "Traffic obstruction/car breakdown    4831\n",
       "Others                               3459\n",
       "Traffic congestion/heavy traffic     2821\n",
       "Road closure                         1487\n",
       "Water logging                        1156\n",
       "Traffic information/advisory         1001\n",
       "City program                          416\n",
       "Accident                              267\n",
       "Name: label, dtype: int64"
      ]
     },
     "execution_count": 43,
     "metadata": {},
     "output_type": "execute_result"
    }
   ],
   "source": [
    "df.label.value_counts()"
   ]
  },
  {
   "cell_type": "code",
   "execution_count": 44,
   "metadata": {
    "colab": {
     "base_uri": "https://localhost:8080/",
     "height": 808
    },
    "executionInfo": {
     "elapsed": 656,
     "status": "ok",
     "timestamp": 1687449110845,
     "user": {
      "displayName": "Pratik Dutta",
      "userId": "14379323121603271074"
     },
     "user_tz": -330
    },
    "id": "P38zaTtSP60-",
    "outputId": "a8713b8f-abd1-4137-cfa9-d11b1a689804"
   },
   "outputs": [
    {
     "data": {
      "text/plain": [
       "[Text(0, 0, 'Others'),\n",
       " Text(1, 0, 'Traffic information/advisory'),\n",
       " Text(2, 0, 'Accident'),\n",
       " Text(3, 0, 'Traffic congestion/heavy traffic'),\n",
       " Text(4, 0, 'Water logging'),\n",
       " Text(5, 0, 'City program'),\n",
       " Text(6, 0, 'Traffic obstruction/car breakdown'),\n",
       " Text(7, 0, 'Road closure')]"
      ]
     },
     "execution_count": 44,
     "metadata": {},
     "output_type": "execute_result"
    },
    {
     "data": {
      "image/png": "[encoded data removed]",
      "text/plain": [
       "<Figure size 640x480 with 1 Axes>"
      ]
     },
     "metadata": {},
     "output_type": "display_data"
    }
   ],
   "source": [
    "s = sns.countplot(x='label',data=df)\n",
    "s.set_xticklabels(s.get_xticklabels(),rotation=90)"
   ]
  },
  {
   "cell_type": "code",
   "execution_count": 45,
   "metadata": {
    "executionInfo": {
     "elapsed": 752,
     "status": "ok",
     "timestamp": 1687449116486,
     "user": {
      "displayName": "Pratik Dutta",
      "userId": "14379323121603271074"
     },
     "user_tz": -330
    },
    "id": "D7CPgdn0EHSS"
   },
   "outputs": [],
   "source": [
    "def print_plot(index):\n",
    "    example = df[df.index == index][['Tweet', 'label']].values[0]\n",
    "    if len(example) > 0:\n",
    "        print(example[0])\n",
    "        print('Product:', example[1])"
   ]
  },
  {
   "cell_type": "code",
   "execution_count": 46,
   "metadata": {
    "colab": {
     "base_uri": "https://localhost:8080/"
    },
    "executionInfo": {
     "elapsed": 6,
     "status": "ok",
     "timestamp": 1687449118852,
     "user": {
      "displayName": "Pratik Dutta",
      "userId": "14379323121603271074"
     },
     "user_tz": -330
    },
    "id": "j-opf_vjEHST",
    "outputId": "86dab8c4-5795-4713-ae24-56d27a7c1c91"
   },
   "outputs": [
    {
     "name": "stdout",
     "output_type": "stream",
     "text": [
      " BRIG HOSHIYAR SINGH MARG AUROBINDO MARGPRITHVI RAJ ROAD in connection with Airtel Delhi Half Marathon Championship \n",
      "Product: Others\n"
     ]
    }
   ],
   "source": [
    "print_plot(10)"
   ]
  },
  {
   "cell_type": "code",
   "execution_count": 47,
   "metadata": {
    "colab": {
     "base_uri": "https://localhost:8080/"
    },
    "executionInfo": {
     "elapsed": 13,
     "status": "ok",
     "timestamp": 1687449119378,
     "user": {
      "displayName": "Pratik Dutta",
      "userId": "14379323121603271074"
     },
     "user_tz": -330
    },
    "id": "tnQMU9mBEHSU",
    "outputId": "b8ed5410-2d23-4aac-cab9-4a8aeb9b3775"
   },
   "outputs": [
    {
     "name": "stdout",
     "output_type": "stream",
     "text": [
      "and to complain online you may also visit at their website \n",
      "Product: Others\n"
     ]
    }
   ],
   "source": [
    "print_plot(100)"
   ]
  },
  {
   "cell_type": "code",
   "execution_count": 48,
   "metadata": {
    "executionInfo": {
     "elapsed": 11,
     "status": "ok",
     "timestamp": 1687449122262,
     "user": {
      "displayName": "Pratik Dutta",
      "userId": "14379323121603271074"
     },
     "user_tz": -330
    },
    "id": "oChC-EZUEHSU"
   },
   "outputs": [],
   "source": [
    "df = df.reset_index(drop=True)\n",
    "REPLACE_BY_SPACE_RE = re.compile('[/(){}\\[\\]\\|@,;]')\n",
    "BAD_SYMBOLS_RE = re.compile('[^0-9a-z #+_]')\n",
    "STOPWORDS = set(stopwords.words('english'))\n",
    "\n",
    "def clean_text(text):\n",
    "    \"\"\"\n",
    "        text: a string\n",
    "\n",
    "        return: modified initial string\n",
    "    \"\"\"\n",
    "    text = text.lower() # lowercase text\n",
    "    text = REPLACE_BY_SPACE_RE.sub(' ', text) # replace REPLACE_BY_SPACE_RE symbols by space in text. substitute the matched string in REPLACE_BY_SPACE_RE with space.\n",
    "    text = BAD_SYMBOLS_RE.sub('', text) # remove symbols which are in BAD_SYMBOLS_RE from text. substitute the matched string in BAD_SYMBOLS_RE with nothing.\n",
    "    text = text.replace('x', '')\n",
    "#    text = re.sub(r'\\W+', '', text)\n",
    "    text = ' '.join(word for word in text.split() if word not in STOPWORDS) # remove stopwors from text\n",
    "    return text\n",
    "df['Tweet'] = df['Tweet'].apply(clean_text)"
   ]
  },
  {
   "cell_type": "code",
   "execution_count": 49,
   "metadata": {
    "colab": {
     "base_uri": "https://localhost:8080/"
    },
    "executionInfo": {
     "elapsed": 5,
     "status": "ok",
     "timestamp": 1687449126369,
     "user": {
      "displayName": "Pratik Dutta",
      "userId": "14379323121603271074"
     },
     "user_tz": -330
    },
    "id": "kpo35aAXEHSV",
    "outputId": "5f95bc57-7b74-4325-ab8d-9a797949e915"
   },
   "outputs": [
    {
     "name": "stderr",
     "output_type": "stream",
     "text": [
      "<ipython-input-49-7a21faa3365b>:1: FutureWarning:\n",
      "\n",
      "The default value of regex will change from True to False in a future version.\n",
      "\n"
     ]
    }
   ],
   "source": [
    "df['Tweet'] = df['Tweet'].str.replace('\\d+', '')"
   ]
  },
  {
   "cell_type": "code",
   "execution_count": 50,
   "metadata": {
    "colab": {
     "base_uri": "https://localhost:8080/"
    },
    "executionInfo": {
     "elapsed": 7,
     "status": "ok",
     "timestamp": 1687449128895,
     "user": {
      "displayName": "Pratik Dutta",
      "userId": "14379323121603271074"
     },
     "user_tz": -330
    },
    "id": "EfIusrEWEHSV",
    "outputId": "38cc7739-55a9-4797-fd74-f379a737fd8d"
   },
   "outputs": [
    {
     "name": "stdout",
     "output_type": "stream",
     "text": [
      "brig hoshiyar singh marg aurobindo margprithvi raj road connection airtel delhi half marathon championship\n",
      "Product: Others\n"
     ]
    }
   ],
   "source": [
    "print_plot(10)"
   ]
  },
  {
   "cell_type": "code",
   "execution_count": 51,
   "metadata": {
    "colab": {
     "base_uri": "https://localhost:8080/"
    },
    "executionInfo": {
     "elapsed": 466,
     "status": "ok",
     "timestamp": 1687449137589,
     "user": {
      "displayName": "Pratik Dutta",
      "userId": "14379323121603271074"
     },
     "user_tz": -330
    },
    "id": "wfkTV4JTEHSW",
    "outputId": "31d90cf6-d221-4c84-cd92-8df02943320f"
   },
   "outputs": [
    {
     "name": "stdout",
     "output_type": "stream",
     "text": [
      "complain online may also visit website\n",
      "Product: Others\n"
     ]
    }
   ],
   "source": [
    "print_plot(100)"
   ]
  },
  {
   "cell_type": "code",
   "execution_count": 53,
   "metadata": {
    "colab": {
     "base_uri": "https://localhost:8080/"
    },
    "executionInfo": {
     "elapsed": 495,
     "status": "ok",
     "timestamp": 1687449154350,
     "user": {
      "displayName": "Pratik Dutta",
      "userId": "14379323121603271074"
     },
     "user_tz": -330
    },
    "id": "mbKJiD3GEHSW",
    "outputId": "5552157a-7ac7-4a7b-a322-8fee7e1428e7"
   },
   "outputs": [
    {
     "name": "stdout",
     "output_type": "stream",
     "text": [
      "Found 8212 unique tokens.\n"
     ]
    }
   ],
   "source": [
    "# The maximum number of words to be used. (most frequent)\n",
    "MAX_NB_WORDS = 5000\n",
    "# Max number of words in each complaint.\n",
    "MAX_SEQUENCE_LENGTH = 120\n",
    "# This is fixed.\n",
    "EMBEDDING_DIM = 100\n",
    "\n",
    "tokenizer = Tokenizer(num_words=MAX_NB_WORDS, filters='!\"#$%&()*+,-./:;<=>?@[\\]^_`{|}~', lower=True)\n",
    "tokenizer.fit_on_texts(df['Tweet'].values)\n",
    "word_index = tokenizer.word_index\n",
    "print('Found %s unique tokens.' % len(word_index))"
   ]
  },
  {
   "cell_type": "code",
   "execution_count": 54,
   "metadata": {
    "colab": {
     "base_uri": "https://localhost:8080/"
    },
    "executionInfo": {
     "elapsed": 503,
     "status": "ok",
     "timestamp": 1687449162305,
     "user": {
      "displayName": "Pratik Dutta",
      "userId": "14379323121603271074"
     },
     "user_tz": -330
    },
    "id": "C_OPE9HUEHSX",
    "outputId": "8c6b7932-43ad-4d0a-d402-e1c6e2d8a47c"
   },
   "outputs": [
    {
     "name": "stdout",
     "output_type": "stream",
     "text": [
      "Shape of data tensor: (15438, 120)\n"
     ]
    },
    {
     "data": {
      "text/plain": [
       "array([[   0,    0,    0, ...,  840, 4367,    5],\n",
       "       [   0,    0,    0, ...,    1,   33,   56],\n",
       "       [   0,    0,    0, ...,  891,   19, 1259],\n",
       "       ...,\n",
       "       [   0,    0,    0, ...,  114,  483,    1],\n",
       "       [   0,    0,    0, ...,  362,  194,   82],\n",
       "       [   0,    0,    0, ...,  411,    1,   23]], dtype=int32)"
      ]
     },
     "execution_count": 54,
     "metadata": {},
     "output_type": "execute_result"
    }
   ],
   "source": [
    "X = tokenizer.texts_to_sequences(df['Tweet'].values)\n",
    "X = pad_sequences(X, maxlen=MAX_SEQUENCE_LENGTH)\n",
    "print('Shape of data tensor:', X.shape)\n",
    "X"
   ]
  },
  {
   "cell_type": "code",
   "execution_count": 55,
   "metadata": {
    "colab": {
     "base_uri": "https://localhost:8080/",
     "height": 196
    },
    "executionInfo": {
     "elapsed": 455,
     "status": "ok",
     "timestamp": 1687449168315,
     "user": {
      "displayName": "Pratik Dutta",
      "userId": "14379323121603271074"
     },
     "user_tz": -330
    },
    "id": "45onfnPij-MV",
    "outputId": "900c9e96-5d5c-4285-975e-88128a0d5fb7"
   },
   "outputs": [
    {
     "data": {
      "text/html": [
       "<style>#sk-container-id-1 {color: black;background-color: white;}#sk-container-id-1 pre{padding: 0;}#sk-container-id-1 div.sk-toggleable {background-color: white;}#sk-container-id-1 label.sk-toggleable__label {cursor: pointer;display: block;width: 100%;margin-bottom: 0;padding: 0.3em;box-sizing: border-box;text-align: center;}#sk-container-id-1 label.sk-toggleable__label-arrow:before {content: \"▸\";float: left;margin-right: 0.25em;color: #696969;}#sk-container-id-1 label.sk-toggleable__label-arrow:hover:before {color: black;}#sk-container-id-1 div.sk-estimator:hover label.sk-toggleable__label-arrow:before {color: black;}#sk-container-id-1 div.sk-toggleable__content {max-height: 0;max-width: 0;overflow: hidden;text-align: left;background-color: #f0f8ff;}#sk-container-id-1 div.sk-toggleable__content pre {margin: 0.2em;color: black;border-radius: 0.25em;background-color: #f0f8ff;}#sk-container-id-1 input.sk-toggleable__control:checked~div.sk-toggleable__content {max-height: 200px;max-width: 100%;overflow: auto;}#sk-container-id-1 input.sk-toggleable__control:checked~label.sk-toggleable__label-arrow:before {content: \"▾\";}#sk-container-id-1 div.sk-estimator input.sk-toggleable__control:checked~label.sk-toggleable__label {background-color: #d4ebff;}#sk-container-id-1 div.sk-label input.sk-toggleable__control:checked~label.sk-toggleable__label {background-color: #d4ebff;}#sk-container-id-1 input.sk-hidden--visually {border: 0;clip: rect(1px 1px 1px 1px);clip: rect(1px, 1px, 1px, 1px);height: 1px;margin: -1px;overflow: hidden;padding: 0;position: absolute;width: 1px;}#sk-container-id-1 div.sk-estimator {font-family: monospace;background-color: #f0f8ff;border: 1px dotted black;border-radius: 0.25em;box-sizing: border-box;margin-bottom: 0.5em;}#sk-container-id-1 div.sk-estimator:hover {background-color: #d4ebff;}#sk-container-id-1 div.sk-parallel-item::after {content: \"\";width: 100%;border-bottom: 1px solid gray;flex-grow: 1;}#sk-container-id-1 div.sk-label:hover label.sk-toggleable__label {background-color: #d4ebff;}#sk-container-id-1 div.sk-serial::before {content: \"\";position: absolute;border-left: 1px solid gray;box-sizing: border-box;top: 0;bottom: 0;left: 50%;z-index: 0;}#sk-container-id-1 div.sk-serial {display: flex;flex-direction: column;align-items: center;background-color: white;padding-right: 0.2em;padding-left: 0.2em;position: relative;}#sk-container-id-1 div.sk-item {position: relative;z-index: 1;}#sk-container-id-1 div.sk-parallel {display: flex;align-items: stretch;justify-content: center;background-color: white;position: relative;}#sk-container-id-1 div.sk-item::before, #sk-container-id-1 div.sk-parallel-item::before {content: \"\";position: absolute;border-left: 1px solid gray;box-sizing: border-box;top: 0;bottom: 0;left: 50%;z-index: -1;}#sk-container-id-1 div.sk-parallel-item {display: flex;flex-direction: column;z-index: 1;position: relative;background-color: white;}#sk-container-id-1 div.sk-parallel-item:first-child::after {align-self: flex-end;width: 50%;}#sk-container-id-1 div.sk-parallel-item:last-child::after {align-self: flex-start;width: 50%;}#sk-container-id-1 div.sk-parallel-item:only-child::after {width: 0;}#sk-container-id-1 div.sk-dashed-wrapped {border: 1px dashed gray;margin: 0 0.4em 0.5em 0.4em;box-sizing: border-box;padding-bottom: 0.4em;background-color: white;}#sk-container-id-1 div.sk-label label {font-family: monospace;font-weight: bold;display: inline-block;line-height: 1.2em;}#sk-container-id-1 div.sk-label-container {text-align: center;}#sk-container-id-1 div.sk-container {/* jupyter's `normalize.less` sets `[hidden] { display: none; }` but bootstrap.min.css set `[hidden] { display: none !important; }` so we also need the `!important` here to be able to override the default hidden behavior on the sphinx rendered scikit-learn.org. See: https://github.com/scikit-learn/scikit-learn/issues/21755 */display: inline-block !important;position: relative;}#sk-container-id-1 div.sk-text-repr-fallback {display: none;}</style><div id=\"sk-container-id-1\" class=\"sk-top-container\"><div class=\"sk-text-repr-fallback\"><pre>LabelEncoder()</pre><b>In a Jupyter environment, please rerun this cell to show the HTML representation or trust the notebook. <br />On GitHub, the HTML representation is unable to render, please try loading this page with nbviewer.org.</b></div><div class=\"sk-container\" hidden><div class=\"sk-item\"><div class=\"sk-estimator sk-toggleable\"><input class=\"sk-toggleable__control sk-hidden--visually\" id=\"sk-estimator-id-1\" type=\"checkbox\" checked><label for=\"sk-estimator-id-1\" class=\"sk-toggleable__label sk-toggleable__label-arrow\">LabelEncoder</label><div class=\"sk-toggleable__content\"><pre>LabelEncoder()</pre></div></div></div></div></div>"
      ],
      "text/plain": [
       "LabelEncoder()"
      ]
     },
     "execution_count": 55,
     "metadata": {},
     "output_type": "execute_result"
    },
    {
     "data": {
      "text/plain": [
       "array([[0., 0., 1., ..., 0., 0., 0.],\n",
       "       [0., 0., 0., ..., 1., 0., 0.],\n",
       "       [0., 0., 1., ..., 0., 0., 0.],\n",
       "       ...,\n",
       "       [0., 0., 0., ..., 0., 0., 0.],\n",
       "       [0., 0., 1., ..., 0., 0., 0.],\n",
       "       [0., 0., 1., ..., 0., 0., 0.]])"
      ]
     },
     "execution_count": 55,
     "metadata": {},
     "output_type": "execute_result"
    }
   ],
   "source": [
    "label_encoder=LabelEncoder()\n",
    "Y = df['label'].values\n",
    "label_encoder.fit(Y)\n",
    "y=label_encoder.transform(Y)\n",
    "classes=label_encoder.classes_\n",
    "encoder = OneHotEncoder()\n",
    "y = encoder.fit_transform(np.array(y).reshape(-1,1)).toarray()\n",
    "y"
   ]
  },
  {
   "cell_type": "code",
   "execution_count": null,
   "metadata": {
    "colab": {
     "base_uri": "https://localhost:8080/"
    },
    "executionInfo": {
     "elapsed": 496,
     "status": "ok",
     "timestamp": 1687371117861,
     "user": {
      "displayName": "Pratik Dutta",
      "userId": "14379323121603271074"
     },
     "user_tz": -330
    },
    "id": "vbeh0JBlEHSX",
    "outputId": "37861f32-cffc-4d80-e5a8-b54b1be239b4"
   },
   "outputs": [
    {
     "name": "stdout",
     "output_type": "stream",
     "text": [
      "Shape of label tensor: (8327, 6)\n"
     ]
    }
   ],
   "source": [
    "# Y1 = pd.get_dummies(df['label']).values\n",
    "# print('Shape of label tensor:', Y1.shape)"
   ]
  },
  {
   "cell_type": "code",
   "execution_count": 56,
   "metadata": {
    "colab": {
     "base_uri": "https://localhost:8080/"
    },
    "executionInfo": {
     "elapsed": 501,
     "status": "ok",
     "timestamp": 1687449175830,
     "user": {
      "displayName": "Pratik Dutta",
      "userId": "14379323121603271074"
     },
     "user_tz": -330
    },
    "id": "xS5HnSvnEHSY",
    "outputId": "2134f1dd-3af1-4f35-d802-5340e9b53288"
   },
   "outputs": [
    {
     "name": "stdout",
     "output_type": "stream",
     "text": [
      "(12350, 120) (12350, 8)\n",
      "(3088, 120) (3088, 8)\n"
     ]
    }
   ],
   "source": [
    "X_train, X_test, Y_train, Y_test = train_test_split(X,y, test_size = 0.20, random_state = 42)\n",
    "print(X_train.shape,Y_train.shape)\n",
    "print(X_test.shape,Y_test.shape)"
   ]
  },
  {
   "cell_type": "code",
   "execution_count": 57,
   "metadata": {
    "colab": {
     "base_uri": "https://localhost:8080/"
    },
    "executionInfo": {
     "elapsed": 1018,
     "status": "ok",
     "timestamp": 1687449180115,
     "user": {
      "displayName": "Pratik Dutta",
      "userId": "14379323121603271074"
     },
     "user_tz": -330
    },
    "id": "mCqH_MfIEHSY",
    "outputId": "44d7287c-138f-448f-dfbb-5f5ded5e2f93"
   },
   "outputs": [
    {
     "name": "stdout",
     "output_type": "stream",
     "text": [
      "Model: \"sequential\"\n",
      "_________________________________________________________________\n",
      " Layer (type)                Output Shape              Param #   \n",
      "=================================================================\n",
      " embedding (Embedding)       (None, 120, 100)          500000    \n",
      "                                                                 \n",
      " spatial_dropout1d (SpatialD  (None, 120, 100)         0         \n",
      " ropout1D)                                                       \n",
      "                                                                 \n",
      " lstm (LSTM)                 (None, 100)               80400     \n",
      "                                                                 \n",
      " dense (Dense)               (None, 8)                 808       \n",
      "                                                                 \n",
      "=================================================================\n",
      "Total params: 581,208\n",
      "Trainable params: 581,208\n",
      "Non-trainable params: 0\n",
      "_________________________________________________________________\n",
      "None\n"
     ]
    }
   ],
   "source": [
    "model = Sequential()\n",
    "model.add(Embedding(MAX_NB_WORDS, EMBEDDING_DIM, input_length=X.shape[1]))\n",
    "model.add(SpatialDropout1D(0.2))\n",
    "model.add(LSTM(100, dropout=0.2, recurrent_dropout=0.2))\n",
    "model.add(Dense(y.shape[1], activation='softmax'))\n",
    "model.compile(loss='categorical_crossentropy', optimizer='adam', metrics=['accuracy'])\n",
    "print(model.summary())"
   ]
  },
  {
   "cell_type": "code",
   "execution_count": 58,
   "metadata": {
    "colab": {
     "base_uri": "https://localhost:8080/"
    },
    "executionInfo": {
     "elapsed": 1111354,
     "status": "ok",
     "timestamp": 1687450296111,
     "user": {
      "displayName": "Pratik Dutta",
      "userId": "14379323121603271074"
     },
     "user_tz": -330
    },
    "id": "XbFSPMB3EHSZ",
    "outputId": "7742c484-0ce6-4a48-828f-f349b02ae7e3"
   },
   "outputs": [
    {
     "name": "stdout",
     "output_type": "stream",
     "text": [
      "Epoch 1/15\n",
      "348/348 [==============================] - 150s 420ms/step - loss: 0.8032 - accuracy: 0.7351 - val_loss: 0.2978 - val_accuracy: 0.8996\n",
      "Epoch 2/15\n",
      "348/348 [==============================] - 120s 344ms/step - loss: 0.1584 - accuracy: 0.9533 - val_loss: 0.1289 - val_accuracy: 0.9595\n",
      "Epoch 3/15\n",
      "348/348 [==============================] - 107s 308ms/step - loss: 0.0684 - accuracy: 0.9819 - val_loss: 0.0821 - val_accuracy: 0.9700\n",
      "Epoch 4/15\n",
      "348/348 [==============================] - 106s 305ms/step - loss: 0.0451 - accuracy: 0.9870 - val_loss: 0.0807 - val_accuracy: 0.9757\n",
      "Epoch 5/15\n",
      "348/348 [==============================] - 106s 306ms/step - loss: 0.0392 - accuracy: 0.9897 - val_loss: 0.0823 - val_accuracy: 0.9765\n",
      "Epoch 6/15\n",
      "348/348 [==============================] - 105s 301ms/step - loss: 0.0291 - accuracy: 0.9919 - val_loss: 0.0804 - val_accuracy: 0.9749\n",
      "Epoch 7/15\n",
      "348/348 [==============================] - 105s 303ms/step - loss: 0.0180 - accuracy: 0.9951 - val_loss: 0.0668 - val_accuracy: 0.9830\n",
      "Epoch 8/15\n",
      "348/348 [==============================] - 102s 295ms/step - loss: 0.0162 - accuracy: 0.9953 - val_loss: 0.0748 - val_accuracy: 0.9814\n",
      "Epoch 9/15\n",
      "348/348 [==============================] - 104s 299ms/step - loss: 0.0179 - accuracy: 0.9951 - val_loss: 0.0719 - val_accuracy: 0.9814\n",
      "Epoch 10/15\n",
      "348/348 [==============================] - 103s 297ms/step - loss: 0.0127 - accuracy: 0.9965 - val_loss: 0.0749 - val_accuracy: 0.9830\n"
     ]
    }
   ],
   "source": [
    "import keras\n",
    "epochs = 15\n",
    "batch_size = 32\n",
    "\n",
    "checkpoint_filepath = '/content/drive/MyDrive/Models/TweetClassification/'\n",
    "model_checkpoint_callback = keras.callbacks.ModelCheckpoint(\n",
    "    filepath=checkpoint_filepath,\n",
    "    save_weights_only=True,\n",
    "    monitor='val_accuracy',\n",
    "    mode='max',\n",
    "    save_best_only=True)\n",
    "\n",
    "history = model.fit(X_train, Y_train, epochs=epochs, batch_size=batch_size,validation_split=0.1,callbacks=[EarlyStopping(monitor='val_loss', patience=3, min_delta=0.0001)])\n",
    "# history = model.fit(X_train, Y_train, epochs=epochs, batch_size=batch_size,validation_split=0.1,callbacks=[model_checkpoint_callback])"
   ]
  },
  {
   "cell_type": "markdown",
   "metadata": {
    "id": "4wY_DGGUQ6yb"
   },
   "source": [
    "# Save Model and History"
   ]
  },
  {
   "cell_type": "code",
   "execution_count": 60,
   "metadata": {
    "executionInfo": {
     "elapsed": 53669,
     "status": "ok",
     "timestamp": 1687450710531,
     "user": {
      "displayName": "Pratik Dutta",
      "userId": "14379323121603271074"
     },
     "user_tz": -330
    },
    "id": "7kHd-8FXVAql"
   },
   "outputs": [],
   "source": [
    "import pickle\n",
    "with open(path+'delhi_LSTM_history', 'wb') as file_pi:\n",
    "    pickle.dump(history, file_pi)"
   ]
  },
  {
   "cell_type": "code",
   "execution_count": 61,
   "metadata": {
    "executionInfo": {
     "elapsed": 5,
     "status": "ok",
     "timestamp": 1687450710533,
     "user": {
      "displayName": "Pratik Dutta",
      "userId": "14379323121603271074"
     },
     "user_tz": -330
    },
    "id": "iFTxHtPZVE-m"
   },
   "outputs": [],
   "source": [
    "model.save(path+'delhi_LSTM_model.h5')"
   ]
  },
  {
   "cell_type": "markdown",
   "metadata": {
    "id": "ZTMuMY5yQ_B_"
   },
   "source": [
    "# Load Model and History"
   ]
  },
  {
   "cell_type": "code",
   "execution_count": 62,
   "metadata": {
    "executionInfo": {
     "elapsed": 1716,
     "status": "ok",
     "timestamp": 1687450737127,
     "user": {
      "displayName": "Pratik Dutta",
      "userId": "14379323121603271074"
     },
     "user_tz": -330
    },
    "id": "SGPTeFWaGV-X"
   },
   "outputs": [],
   "source": [
    "from tensorflow import keras\n",
    "model = keras.models.load_model(path+'delhi_LSTM_model.h5')"
   ]
  },
  {
   "cell_type": "code",
   "execution_count": null,
   "metadata": {
    "id": "8xvx2zr7QbiE"
   },
   "outputs": [],
   "source": [
    "import pickle\n",
    "with open(path+'delhi_LSTM_history', \"rb\") as file_pi:\n",
    "  history = pickle.load(file_pi)"
   ]
  },
  {
   "cell_type": "markdown",
   "metadata": {
    "id": "5syRet0rRDHN"
   },
   "source": [
    "# Perform on Test Dataset"
   ]
  },
  {
   "cell_type": "code",
   "execution_count": 63,
   "metadata": {
    "colab": {
     "base_uri": "https://localhost:8080/"
    },
    "executionInfo": {
     "elapsed": 6647,
     "status": "ok",
     "timestamp": 1687450806618,
     "user": {
      "displayName": "Pratik Dutta",
      "userId": "14379323121603271074"
     },
     "user_tz": -330
    },
    "id": "HCQjvHcLEHSa",
    "outputId": "fd850053-53f6-4ce2-8ca4-37abbd8df21d"
   },
   "outputs": [
    {
     "name": "stdout",
     "output_type": "stream",
     "text": [
      "97/97 [==============================] - 6s 53ms/step - loss: 0.1034 - accuracy: 0.9780\n",
      "Test set\n",
      "  Loss: 0.103\n",
      "  Accuracy: 0.978\n"
     ]
    }
   ],
   "source": [
    "accr = model.evaluate(X_test,Y_test)\n",
    "print('Test set\\n  Loss: {:0.3f}\\n  Accuracy: {:0.3f}'.format(accr[0],accr[1]))"
   ]
  },
  {
   "cell_type": "markdown",
   "metadata": {
    "id": "Kvda2xkeRpez"
   },
   "source": [
    "# Plot Result"
   ]
  },
  {
   "cell_type": "code",
   "execution_count": 64,
   "metadata": {
    "colab": {
     "base_uri": "https://localhost:8080/"
    },
    "executionInfo": {
     "elapsed": 549,
     "status": "ok",
     "timestamp": 1687450812096,
     "user": {
      "displayName": "Pratik Dutta",
      "userId": "14379323121603271074"
     },
     "user_tz": -330
    },
    "id": "EEXc1ldiEHSd",
    "outputId": "57f1d427-34f4-4298-efb9-fb1b92a3ef07"
   },
   "outputs": [
    {
     "name": "stdout",
     "output_type": "stream",
     "text": [
      "1/1 [==============================] - 0s 328ms/step\n",
      "[[7.7965384e-04 2.2269848e-03 7.8691882e-01 2.5177305e-03 1.7872164e-03\n",
      "  2.0426075e-01 6.3585112e-04 8.7305845e-04]] Mortgage\n"
     ]
    }
   ],
   "source": [
    "new_complaint = ['I am a victim of identity theft and someone stole my identity and personal information to open up a Visa credit card account with Bank of America. The following Bank of America Visa credit card account do not belong to me : XXXX.']\n",
    "seq = tokenizer.texts_to_sequences(new_complaint)\n",
    "padded = pad_sequences(seq, maxlen=MAX_SEQUENCE_LENGTH)\n",
    "pred = model.predict(padded)\n",
    "labels = ['Credit reporting, credit repair services, or other personal consumer reports', 'Debt collection', 'Mortgage', 'Credit card or prepaid card', 'Student loan', 'Bank account or service', 'Checking or savings account', 'Consumer Loan', 'Payday loan, title loan, or personal loan', 'Vehicle loan or lease', 'Money transfer, virtual currency, or money service', 'Money transfers', 'Prepaid card']\n",
    "print(pred, labels[np.argmax(pred)])"
   ]
  },
  {
   "cell_type": "code",
   "execution_count": 65,
   "metadata": {
    "executionInfo": {
     "elapsed": 437,
     "status": "ok",
     "timestamp": 1687450820311,
     "user": {
      "displayName": "Pratik Dutta",
      "userId": "14379323121603271074"
     },
     "user_tz": -330
    },
    "id": "icBnwIhcuRiP"
   },
   "outputs": [],
   "source": [
    "epochs = 10"
   ]
  },
  {
   "cell_type": "code",
   "execution_count": 66,
   "metadata": {
    "colab": {
     "base_uri": "https://localhost:8080/",
     "height": 443
    },
    "executionInfo": {
     "elapsed": 4925,
     "status": "ok",
     "timestamp": 1687450827334,
     "user": {
      "displayName": "Pratik Dutta",
      "userId": "14379323121603271074"
     },
     "user_tz": -330
    },
    "id": "CteoEsRbUqRW",
    "outputId": "46b8276b-3374-4927-87d3-15c09ae043d3"
   },
   "outputs": [
    {
     "name": "stdout",
     "output_type": "stream",
     "text": [
      "97/97 [==============================] - 4s 37ms/step - loss: 0.1034 - accuracy: 0.9780\n",
      "Accuracy of our model on test data :  97.7979302406311 %\n"
     ]
    },
    {
     "data": {
      "text/plain": [
       "[<matplotlib.lines.Line2D at 0x7f006c579360>]"
      ]
     },
     "execution_count": 66,
     "metadata": {},
     "output_type": "execute_result"
    },
    {
     "data": {
      "text/plain": [
       "[<matplotlib.lines.Line2D at 0x7f006c579540>]"
      ]
     },
     "execution_count": 66,
     "metadata": {},
     "output_type": "execute_result"
    },
    {
     "data": {
      "text/plain": [
       "Text(0.5, 1.0, 'Training & Testing Loss')"
      ]
     },
     "execution_count": 66,
     "metadata": {},
     "output_type": "execute_result"
    },
    {
     "data": {
      "text/plain": [
       "<matplotlib.legend.Legend at 0x7f006c5794e0>"
      ]
     },
     "execution_count": 66,
     "metadata": {},
     "output_type": "execute_result"
    },
    {
     "data": {
      "text/plain": [
       "Text(0.5, 0, 'Epochs')"
      ]
     },
     "execution_count": 66,
     "metadata": {},
     "output_type": "execute_result"
    },
    {
     "data": {
      "text/plain": [
       "[<matplotlib.lines.Line2D at 0x7f006c579e10>]"
      ]
     },
     "execution_count": 66,
     "metadata": {},
     "output_type": "execute_result"
    },
    {
     "data": {
      "text/plain": [
       "[<matplotlib.lines.Line2D at 0x7f006c57ac80>]"
      ]
     },
     "execution_count": 66,
     "metadata": {},
     "output_type": "execute_result"
    },
    {
     "data": {
      "text/plain": [
       "Text(0.5, 1.0, 'Training & Testing Accuracy')"
      ]
     },
     "execution_count": 66,
     "metadata": {},
     "output_type": "execute_result"
    },
    {
     "data": {
      "text/plain": [
       "<matplotlib.legend.Legend at 0x7f006c722290>"
      ]
     },
     "execution_count": 66,
     "metadata": {},
     "output_type": "execute_result"
    },
    {
     "data": {
      "text/plain": [
       "Text(0.5, 0, 'Epochs')"
      ]
     },
     "execution_count": 66,
     "metadata": {},
     "output_type": "execute_result"
    },
    {
     "data": {
      "image/png": "[encoded data removed]",
      "text/plain": [
       "<Figure size 2000x600 with 2 Axes>"
      ]
     },
     "metadata": {},
     "output_type": "display_data"
    }
   ],
   "source": [
    "print(\"Accuracy of our model on test data : \" , model.evaluate(X_test,Y_test)[1]*100 , \"%\")\n",
    "\n",
    "epochs = [i for i in range(epochs)]\n",
    "fig , ax = plt.subplots(1,2)\n",
    "train_acc = history.history['accuracy']\n",
    "train_loss = history.history['loss']\n",
    "test_acc = history.history['val_accuracy']\n",
    "test_loss = history.history['val_loss']\n",
    "\n",
    "fig.set_size_inches(20,6)\n",
    "ax[0].plot(epochs , train_loss , label = 'Training Loss')\n",
    "ax[0].plot(epochs , test_loss , label = 'Testing Loss')\n",
    "ax[0].set_title('Training & Testing Loss')\n",
    "ax[0].legend()\n",
    "ax[0].set_xlabel(\"Epochs\")\n",
    "\n",
    "ax[1].plot(epochs , train_acc , label = 'Training Accuracy')\n",
    "ax[1].plot(epochs , test_acc , label = 'Testing Accuracy')\n",
    "ax[1].set_title('Training & Testing Accuracy')\n",
    "ax[1].legend()\n",
    "ax[1].set_xlabel(\"Epochs\")\n",
    "plt.show()"
   ]
  },
  {
   "cell_type": "code",
   "execution_count": 67,
   "metadata": {
    "colab": {
     "base_uri": "https://localhost:8080/"
    },
    "executionInfo": {
     "elapsed": 4596,
     "status": "ok",
     "timestamp": 1687450846800,
     "user": {
      "displayName": "Pratik Dutta",
      "userId": "14379323121603271074"
     },
     "user_tz": -330
    },
    "id": "aF972sUqUqRW",
    "outputId": "d17d3d00-3a62-4def-f19c-0f7b1b9321ef"
   },
   "outputs": [
    {
     "name": "stdout",
     "output_type": "stream",
     "text": [
      "97/97 [==============================] - 4s 41ms/step\n"
     ]
    }
   ],
   "source": [
    "# predicting on test data.\n",
    "pred_test = model.predict(X_test)\n"
   ]
  },
  {
   "cell_type": "code",
   "execution_count": 68,
   "metadata": {
    "colab": {
     "base_uri": "https://localhost:8080/"
    },
    "executionInfo": {
     "elapsed": 554,
     "status": "ok",
     "timestamp": 1687450854842,
     "user": {
      "displayName": "Pratik Dutta",
      "userId": "14379323121603271074"
     },
     "user_tz": -330
    },
    "id": "31dArULNmW0b",
    "outputId": "c07c419f-e7cf-4569-affe-76b06e9bec90"
   },
   "outputs": [
    {
     "data": {
      "text/plain": [
       "array([[5.6712030e-05, 8.7883142e-05, 5.0511264e-04, ..., 4.8435606e-05,\n",
       "        9.1386013e-05, 1.8804476e-05],\n",
       "       [2.2495326e-05, 9.4055158e-06, 3.1725594e-04, ..., 4.0575778e-05,\n",
       "        2.4911955e-05, 8.6023238e-06],\n",
       "       [2.8951054e-06, 1.2254224e-05, 9.9987507e-01, ..., 1.9145144e-05,\n",
       "        9.4482575e-06, 7.6500901e-06],\n",
       "       ...,\n",
       "       [2.5269287e-04, 1.8138907e-04, 9.9150282e-01, ..., 5.5741831e-03,\n",
       "        3.3351933e-04, 1.1604700e-03],\n",
       "       [1.3254448e-05, 4.5592660e-05, 3.7206076e-03, ..., 2.0369484e-05,\n",
       "        5.5120374e-05, 1.1964008e-05],\n",
       "       [1.5755941e-05, 1.5451076e-05, 3.3959543e-06, ..., 9.9989635e-01,\n",
       "        8.0172919e-07, 5.3365089e-05]], dtype=float32)"
      ]
     },
     "execution_count": 68,
     "metadata": {},
     "output_type": "execute_result"
    }
   ],
   "source": [
    "pred_test"
   ]
  },
  {
   "cell_type": "code",
   "execution_count": 69,
   "metadata": {
    "executionInfo": {
     "elapsed": 5,
     "status": "ok",
     "timestamp": 1687450858573,
     "user": {
      "displayName": "Pratik Dutta",
      "userId": "14379323121603271074"
     },
     "user_tz": -330
    },
    "id": "nf6OvYVxrGRE"
   },
   "outputs": [],
   "source": [
    "from sklearn.preprocessing import StandardScaler, OneHotEncoder\n",
    "# encoder = OneHotEncoder()\n",
    "y_pred = encoder.inverse_transform(pred_test)\n",
    "y_test = encoder.inverse_transform(Y_test)"
   ]
  },
  {
   "cell_type": "code",
   "execution_count": 70,
   "metadata": {
    "colab": {
     "base_uri": "https://localhost:8080/",
     "height": 920
    },
    "executionInfo": {
     "elapsed": 1845,
     "status": "ok",
     "timestamp": 1687450865781,
     "user": {
      "displayName": "Pratik Dutta",
      "userId": "14379323121603271074"
     },
     "user_tz": -330
    },
    "id": "-0zYf3kvUqRW",
    "outputId": "8527c64f-b327-4680-d7f0-6a3ab86c3d61"
   },
   "outputs": [
    {
     "data": {
      "text/plain": [
       "<Figure size 1200x1000 with 0 Axes>"
      ]
     },
     "execution_count": 70,
     "metadata": {},
     "output_type": "execute_result"
    },
    {
     "data": {
      "text/plain": [
       "<Axes: xlabel='None', ylabel='None'>"
      ]
     },
     "execution_count": 70,
     "metadata": {},
     "output_type": "execute_result"
    },
    {
     "data": {
      "text/plain": [
       "Text(0.5, 1.0, 'Confusion Matrix')"
      ]
     },
     "execution_count": 70,
     "metadata": {},
     "output_type": "execute_result"
    },
    {
     "data": {
      "text/plain": [
       "Text(0.5, 80.7222222222222, 'Predicted Labels')"
      ]
     },
     "execution_count": 70,
     "metadata": {},
     "output_type": "execute_result"
    },
    {
     "data": {
      "text/plain": [
       "Text(120.72222222222221, 0.5, 'Actual Labels')"
      ]
     },
     "execution_count": 70,
     "metadata": {},
     "output_type": "execute_result"
    },
    {
     "data": {
      "image/png": "[encoded data removed]",
      "text/plain": [
       "<Figure size 1200x1000 with 2 Axes>"
      ]
     },
     "metadata": {},
     "output_type": "display_data"
    }
   ],
   "source": [
    "cm = confusion_matrix(y_test, y_pred)\n",
    "plt.figure(figsize = (12, 10))\n",
    "cm = pd.DataFrame(cm , index = [i for i in encoder.categories_] , columns = [i for i in encoder.categories_])\n",
    "sns.heatmap(cm, linecolor='white', cmap='Blues', linewidth=1, annot=True, fmt='')\n",
    "plt.title('Confusion Matrix', size=20)\n",
    "plt.xlabel('Predicted Labels', size=14)\n",
    "plt.ylabel('Actual Labels', size=14)\n",
    "plt.show()"
   ]
  },
  {
   "cell_type": "code",
   "execution_count": 71,
   "metadata": {
    "colab": {
     "base_uri": "https://localhost:8080/"
    },
    "executionInfo": {
     "elapsed": 478,
     "status": "ok",
     "timestamp": 1687450875863,
     "user": {
      "displayName": "Pratik Dutta",
      "userId": "14379323121603271074"
     },
     "user_tz": -330
    },
    "id": "s0JTq1HyUqRW",
    "outputId": "185f3ba2-58f1-46c3-d99e-52eda6412ccf"
   },
   "outputs": [
    {
     "name": "stdout",
     "output_type": "stream",
     "text": [
      "              precision    recall  f1-score   support\n",
      "\n",
      "           0       1.00      0.98      0.99        47\n",
      "           1       0.99      0.96      0.97        73\n",
      "           2       0.97      0.94      0.96       685\n",
      "           3       0.98      0.98      0.98       325\n",
      "           4       0.98      0.99      0.99       536\n",
      "           5       0.87      0.97      0.92       191\n",
      "           6       1.00      1.00      1.00       977\n",
      "           7       0.99      1.00      0.99       254\n",
      "\n",
      "    accuracy                           0.98      3088\n",
      "   macro avg       0.97      0.98      0.97      3088\n",
      "weighted avg       0.98      0.98      0.98      3088\n",
      "\n"
     ]
    }
   ],
   "source": [
    "print(classification_report(y_test, y_pred))"
   ]
  },
  {
   "cell_type": "code",
   "execution_count": 72,
   "metadata": {
    "colab": {
     "base_uri": "https://localhost:8080/",
     "height": 594
    },
    "executionInfo": {
     "elapsed": 1147,
     "status": "ok",
     "timestamp": 1687450881430,
     "user": {
      "displayName": "Pratik Dutta",
      "userId": "14379323121603271074"
     },
     "user_tz": -330
    },
    "id": "24ad3634",
    "outputId": "f2ae3978-15ee-4292-f36d-5ebd4c46a2d9"
   },
   "outputs": [
    {
     "data": {
      "text/plain": [
       "[<matplotlib.lines.Line2D at 0x7f006c3cfc70>]"
      ]
     },
     "execution_count": 72,
     "metadata": {},
     "output_type": "execute_result"
    },
    {
     "data": {
      "text/plain": [
       "[<matplotlib.lines.Line2D at 0x7f006c3cfe20>]"
      ]
     },
     "execution_count": 72,
     "metadata": {},
     "output_type": "execute_result"
    },
    {
     "data": {
      "text/plain": [
       "[<matplotlib.lines.Line2D at 0x7f006c3c01f0>]"
      ]
     },
     "execution_count": 72,
     "metadata": {},
     "output_type": "execute_result"
    },
    {
     "data": {
      "text/plain": [
       "[<matplotlib.lines.Line2D at 0x7f006c3c0370>]"
      ]
     },
     "execution_count": 72,
     "metadata": {},
     "output_type": "execute_result"
    },
    {
     "data": {
      "text/plain": [
       "[<matplotlib.lines.Line2D at 0x7f006c3c0730>]"
      ]
     },
     "execution_count": 72,
     "metadata": {},
     "output_type": "execute_result"
    },
    {
     "data": {
      "text/plain": [
       "[<matplotlib.lines.Line2D at 0x7f006c3c09d0>]"
      ]
     },
     "execution_count": 72,
     "metadata": {},
     "output_type": "execute_result"
    },
    {
     "data": {
      "text/plain": [
       "[<matplotlib.lines.Line2D at 0x7f006c3c08b0>]"
      ]
     },
     "execution_count": 72,
     "metadata": {},
     "output_type": "execute_result"
    },
    {
     "data": {
      "text/plain": [
       "[<matplotlib.lines.Line2D at 0x7f006c3c0cd0>]"
      ]
     },
     "execution_count": 72,
     "metadata": {},
     "output_type": "execute_result"
    },
    {
     "data": {
      "text/plain": [
       "[<matplotlib.lines.Line2D at 0x7f006c3c1060>]"
      ]
     },
     "execution_count": 72,
     "metadata": {},
     "output_type": "execute_result"
    },
    {
     "data": {
      "text/plain": [
       "(0.0, 1.0)"
      ]
     },
     "execution_count": 72,
     "metadata": {},
     "output_type": "execute_result"
    },
    {
     "data": {
      "text/plain": [
       "(0.0, 1.05)"
      ]
     },
     "execution_count": 72,
     "metadata": {},
     "output_type": "execute_result"
    },
    {
     "data": {
      "text/plain": [
       "Text(0.5, 1.0, 'Multiclass ROC curve')"
      ]
     },
     "execution_count": 72,
     "metadata": {},
     "output_type": "execute_result"
    },
    {
     "data": {
      "text/plain": [
       "Text(0.5, 0, 'False Positive Rate')"
      ]
     },
     "execution_count": 72,
     "metadata": {},
     "output_type": "execute_result"
    },
    {
     "data": {
      "text/plain": [
       "Text(0, 0.5, 'True Positive rate')"
      ]
     },
     "execution_count": 72,
     "metadata": {},
     "output_type": "execute_result"
    },
    {
     "data": {
      "text/plain": [
       "<matplotlib.legend.Legend at 0x7f006c623100>"
      ]
     },
     "execution_count": 72,
     "metadata": {},
     "output_type": "execute_result"
    },
    {
     "data": {
      "image/png": "[encoded data removed]",
      "text/plain": [
       "<Figure size 640x480 with 1 Axes>"
      ]
     },
     "metadata": {},
     "output_type": "display_data"
    }
   ],
   "source": [
    "from sklearn.metrics import roc_auc_score, accuracy_score, roc_curve,auc\n",
    "pred_prob = pred_test\n",
    "from sklearn.preprocessing import label_binarize\n",
    "#binarize the y_values\n",
    "\n",
    "y_test_binarized=label_binarize(y_test,classes=np.unique(y_test))\n",
    "\n",
    "# roc curve for classes\n",
    "fpr = {}\n",
    "tpr = {}\n",
    "thresh ={}\n",
    "roc_auc = dict()\n",
    "\n",
    "n_class = classes.shape[0]\n",
    "\n",
    "for i in range(n_class):\n",
    "    fpr[i], tpr[i], thresh[i] = roc_curve(y_test_binarized[:,i], pred_prob[:,i])\n",
    "    roc_auc[i] = auc(fpr[i], tpr[i])\n",
    "\n",
    "    # plotting\n",
    "    plt.plot(fpr[i], tpr[i], linestyle='--',\n",
    "             label='%s vs Rest (AUC=%0.2f)'%(classes[i],roc_auc[i]))\n",
    "\n",
    "plt.plot([0,1],[0,1],'b--')\n",
    "plt.xlim([0,1])\n",
    "plt.ylim([0,1.05])\n",
    "plt.title('Multiclass ROC curve')\n",
    "plt.xlabel('False Positive Rate')\n",
    "plt.ylabel('True Positive rate')\n",
    "plt.legend(loc='lower right')\n",
    "plt.show()"
   ]
  },
  {
   "cell_type": "code",
   "execution_count": 73,
   "metadata": {
    "colab": {
     "base_uri": "https://localhost:8080/"
    },
    "executionInfo": {
     "elapsed": 29,
     "status": "ok",
     "timestamp": 1687450888615,
     "user": {
      "displayName": "Pratik Dutta",
      "userId": "14379323121603271074"
     },
     "user_tz": -330
    },
    "id": "0a2df4e3",
    "outputId": "e21dab77-7c56-46d0-a515-41a16df0a9a4"
   },
   "outputs": [
    {
     "name": "stdout",
     "output_type": "stream",
     "text": [
      "ROC-AUC Score: 0.9982618808970016\n"
     ]
    }
   ],
   "source": [
    "from sklearn.metrics import roc_auc_score\n",
    "roc_auc = roc_auc_score(y_test, pred_prob,multi_class='ovr')\n",
    "print(\"ROC-AUC Score:\", roc_auc)"
   ]
  }
 ],
 "metadata": {
  "colab": {
   "provenance": [
    {
     "file_id": "1r2oUcVhAfX77siDGVoRrvBpyHL6n5NPq",
     "timestamp": 1687447845323
    },
    {
     "file_id": "1Y5QOJGAEGd17OBgDa-AqEeac4ZTC7JnF",
     "timestamp": 1687199809106
    },
    {
     "file_id": "https://github.com/susanli2016/NLP-with-Python/blob/master/Multi-Class%20Text%20Classification%20LSTM%20Consumer%20complaints.ipynb",
     "timestamp": 1687185141474
    }
   ]
  },
  "kernelspec": {
   "display_name": "Python 3 (ipykernel)",
   "language": "python",
   "name": "python3"
  },
  "language_info": {
   "codemirror_mode": {
    "name": "ipython",
    "version": 3
   },
   "file_extension": ".py",
   "mimetype": "text/x-python",
   "name": "python",
   "nbconvert_exporter": "python",
   "pygments_lexer": "ipython3",
   "version": "3.8.16"
  }
 },
 "nbformat": 4,
 "nbformat_minor": 1
}
